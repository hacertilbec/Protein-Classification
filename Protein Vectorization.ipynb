{
 "cells": [
  {
   "cell_type": "code",
   "execution_count": 1,
   "metadata": {},
   "outputs": [],
   "source": [
    "from Bio import PDB\n",
    "from Bio.PDB.Polypeptide import PPBuilder\n",
    "from Bio.SeqUtils.ProtParam import ProteinAnalysis\n",
    "import numpy as np\n",
    "import os"
   ]
  },
  {
   "cell_type": "code",
   "execution_count": 2,
   "metadata": {
    "collapsed": true
   },
   "outputs": [],
   "source": [
    "# Get and parse all pdb files in a folder\n",
    "\n",
    "def parsePdbFiles(dir_path):\n",
    "    structures = []\n",
    "    \n",
    "    files = os.listdir(dir_path)\n",
    "    pdb_files = [(f, os.path.join(dir_path, f)) for f in files if f.endswith(\".pdb\")]\n",
    "    \n",
    "    for pdb, pdb_path in pdb_files:\n",
    "        parser = PDB.PDBParser()\n",
    "        structure = parser.get_structure(pdb, pdb_path) \n",
    "        structures.append(structure)\n",
    "        \n",
    "    return structures"
   ]
  },
  {
   "cell_type": "code",
   "execution_count": 3,
   "metadata": {},
   "outputs": [
    {
     "name": "stderr",
     "output_type": "stream",
     "text": [
      "/home/apaydin/anaconda3/lib/python3.6/site-packages/Bio/PDB/StructureBuilder.py:90: PDBConstructionWarning: WARNING: Chain A is discontinuous at line 4909.\n",
      "  PDBConstructionWarning)\n",
      "/home/apaydin/anaconda3/lib/python3.6/site-packages/Bio/PDB/StructureBuilder.py:90: PDBConstructionWarning: WARNING: Chain B is discontinuous at line 4957.\n",
      "  PDBConstructionWarning)\n",
      "/home/apaydin/anaconda3/lib/python3.6/site-packages/Bio/PDB/StructureBuilder.py:90: PDBConstructionWarning: WARNING: Chain A is discontinuous at line 5005.\n",
      "  PDBConstructionWarning)\n",
      "/home/apaydin/anaconda3/lib/python3.6/site-packages/Bio/PDB/StructureBuilder.py:90: PDBConstructionWarning: WARNING: Chain B is discontinuous at line 5184.\n",
      "  PDBConstructionWarning)\n",
      "/home/apaydin/anaconda3/lib/python3.6/site-packages/Bio/PDB/StructureBuilder.py:90: PDBConstructionWarning: WARNING: Chain C is discontinuous at line 5492.\n",
      "  PDBConstructionWarning)\n",
      "/home/apaydin/anaconda3/lib/python3.6/site-packages/Bio/PDB/StructureBuilder.py:90: PDBConstructionWarning: WARNING: Chain D is discontinuous at line 5524.\n",
      "  PDBConstructionWarning)\n",
      "/home/apaydin/anaconda3/lib/python3.6/site-packages/Bio/PDB/StructureBuilder.py:90: PDBConstructionWarning: WARNING: Chain A is discontinuous at line 5565.\n",
      "  PDBConstructionWarning)\n",
      "/home/apaydin/anaconda3/lib/python3.6/site-packages/Bio/PDB/StructureBuilder.py:90: PDBConstructionWarning: WARNING: Chain B is discontinuous at line 5942.\n",
      "  PDBConstructionWarning)\n",
      "/home/apaydin/anaconda3/lib/python3.6/site-packages/Bio/PDB/StructureBuilder.py:90: PDBConstructionWarning: WARNING: Chain A is discontinuous at line 6349.\n",
      "  PDBConstructionWarning)\n",
      "/home/apaydin/anaconda3/lib/python3.6/site-packages/Bio/PDB/StructureBuilder.py:90: PDBConstructionWarning: WARNING: Chain B is discontinuous at line 6397.\n",
      "  PDBConstructionWarning)\n",
      "/home/apaydin/anaconda3/lib/python3.6/site-packages/Bio/PDB/StructureBuilder.py:90: PDBConstructionWarning: WARNING: Chain C is discontinuous at line 6445.\n",
      "  PDBConstructionWarning)\n",
      "/home/apaydin/anaconda3/lib/python3.6/site-packages/Bio/PDB/StructureBuilder.py:90: PDBConstructionWarning: WARNING: Chain D is discontinuous at line 6513.\n",
      "  PDBConstructionWarning)\n",
      "/home/apaydin/anaconda3/lib/python3.6/site-packages/Bio/PDB/StructureBuilder.py:90: PDBConstructionWarning: WARNING: Chain A is discontinuous at line 6566.\n",
      "  PDBConstructionWarning)\n",
      "/home/apaydin/anaconda3/lib/python3.6/site-packages/Bio/PDB/StructureBuilder.py:90: PDBConstructionWarning: WARNING: Chain B is discontinuous at line 6668.\n",
      "  PDBConstructionWarning)\n",
      "/home/apaydin/anaconda3/lib/python3.6/site-packages/Bio/PDB/StructureBuilder.py:90: PDBConstructionWarning: WARNING: Chain C is discontinuous at line 6796.\n",
      "  PDBConstructionWarning)\n",
      "/home/apaydin/anaconda3/lib/python3.6/site-packages/Bio/PDB/StructureBuilder.py:90: PDBConstructionWarning: WARNING: Chain D is discontinuous at line 6938.\n",
      "  PDBConstructionWarning)\n",
      "/home/apaydin/anaconda3/lib/python3.6/site-packages/Bio/PDB/StructureBuilder.py:90: PDBConstructionWarning: WARNING: Chain A is discontinuous at line 4375.\n",
      "  PDBConstructionWarning)\n",
      "/home/apaydin/anaconda3/lib/python3.6/site-packages/Bio/PDB/StructureBuilder.py:90: PDBConstructionWarning: WARNING: Chain B is discontinuous at line 4395.\n",
      "  PDBConstructionWarning)\n",
      "/home/apaydin/anaconda3/lib/python3.6/site-packages/Bio/PDB/StructureBuilder.py:90: PDBConstructionWarning: WARNING: Chain N is discontinuous at line 4413.\n",
      "  PDBConstructionWarning)\n",
      "/home/apaydin/anaconda3/lib/python3.6/site-packages/Bio/PDB/StructureBuilder.py:90: PDBConstructionWarning: WARNING: Chain F is discontinuous at line 4459.\n",
      "  PDBConstructionWarning)\n",
      "/home/apaydin/anaconda3/lib/python3.6/site-packages/Bio/PDB/StructureBuilder.py:90: PDBConstructionWarning: WARNING: Chain J is discontinuous at line 4462.\n",
      "  PDBConstructionWarning)\n",
      "/home/apaydin/anaconda3/lib/python3.6/site-packages/Bio/PDB/StructureBuilder.py:90: PDBConstructionWarning: WARNING: Chain A is discontinuous at line 3283.\n",
      "  PDBConstructionWarning)\n",
      "/home/apaydin/anaconda3/lib/python3.6/site-packages/Bio/PDB/StructureBuilder.py:90: PDBConstructionWarning: WARNING: Chain B is discontinuous at line 3394.\n",
      "  PDBConstructionWarning)\n",
      "/home/apaydin/anaconda3/lib/python3.6/site-packages/Bio/PDB/StructureBuilder.py:90: PDBConstructionWarning: WARNING: Chain A is discontinuous at line 3474.\n",
      "  PDBConstructionWarning)\n",
      "/home/apaydin/anaconda3/lib/python3.6/site-packages/Bio/PDB/StructureBuilder.py:90: PDBConstructionWarning: WARNING: Chain B is discontinuous at line 3610.\n",
      "  PDBConstructionWarning)\n"
     ]
    },
    {
     "data": {
      "text/plain": [
       "[<Structure id=1a4i.pdb>,\n",
       " <Structure id=1gji.pdb>,\n",
       " <Structure id=1a3q.pdb>,\n",
       " <Structure id=1b0a.pdb>,\n",
       " <Structure id=1n71.pdb>,\n",
       " <Structure id=1q2y.pdb>,\n",
       " <Structure id=1a02.pdb>,\n",
       " <Structure id=1m4d.pdb>,\n",
       " <Structure id=1ee9.pdb>]"
      ]
     },
     "execution_count": 3,
     "metadata": {},
     "output_type": "execute_result"
    }
   ],
   "source": [
    "structures = parsePdbFiles(\"pdb_sample\")\n",
    "structures"
   ]
  },
  {
   "cell_type": "markdown",
   "metadata": {},
   "source": [
    "### Aminoacid pair distance Matrix"
   ]
  },
  {
   "cell_type": "code",
   "execution_count": 4,
   "metadata": {
    "collapsed": true
   },
   "outputs": [],
   "source": [
    "def AminoacidPairDistanceMatrix(structure):\n",
    "    aa_vectors = {} # aminoacid vector dictionary {aa_id: aa_carbon_coordinate} \n",
    "\n",
    "    aa_id = 0 # aminoacid id\n",
    "    for model in structure:\n",
    "        for chain in model:\n",
    "          if chain.id == protein_chain_dict[str(structure.id)]:\n",
    "            for residue in chain:\n",
    "                try:\n",
    "                    coords_CA = residue['CA'].coord # x,y,z coordinates of the C-alpha atom\n",
    "                    aa_vectors[aa_id] = coords_CA\n",
    "                except:\n",
    "                    aa_id += 1\n",
    "                    continue\n",
    "                aa_id += 1\n",
    "\n",
    "    aa_distance_matrix = [] # Aminoacid pair distance matrix\n",
    "    for vec in aa_vectors.values():\n",
    "        dist_vec = []\n",
    "        for vec_ in aa_vectors.values():\n",
    "            distance = np.linalg.norm(vec-vec_)\n",
    "            dist_vec.append(distance)\n",
    "        aa_distance_matrix.append(dist_vec)\n",
    "        \n",
    "    return np.array(aa_distance_matrix)"
   ]
  },
  {
   "cell_type": "code",
   "execution_count": 5,
   "metadata": {
    "collapsed": true
   },
   "outputs": [],
   "source": [
    "protein_chain_dict = {\"1m4d.pdb\": \"B\", \"1n71.pdb\":\"B\", \"1q2y.pdb\":\"A\", \"1a02.pdb\":\"N\",\"1a3q.pdb\":\"B\", \"1gji.pdb\": \"B\", \"1a4i.pdb\":\"A\", \"1b0a.pdb\": \"A\", \"1ee9.pdb\": \"A\"}"
   ]
  },
  {
   "cell_type": "code",
   "execution_count": 6,
   "metadata": {},
   "outputs": [
    {
     "name": "stdout",
     "output_type": "stream",
     "text": [
      "1a4i.pdb (285, 285)\n",
      "1gji.pdb (275, 275)\n",
      "1a3q.pdb (285, 285)\n",
      "1b0a.pdb (287, 287)\n",
      "1n71.pdb (179, 179)\n",
      "1q2y.pdb (140, 140)\n",
      "1a02.pdb (280, 280)\n",
      "1m4d.pdb (176, 176)\n",
      "1ee9.pdb (317, 317)\n"
     ]
    }
   ],
   "source": [
    "protein_matrix_dict = {}\n",
    "for protein in structures:\n",
    "    protein_matrix = AminoacidPairDistanceMatrix(protein)\n",
    "    protein_matrix_dict[protein.id] = protein_matrix\n",
    "    print(protein.id, protein_matrix.shape)"
   ]
  },
  {
   "cell_type": "code",
   "execution_count": 7,
   "metadata": {
    "collapsed": true
   },
   "outputs": [],
   "source": [
    "from PIL import Image\n",
    "img = Image.fromarray(protein_matrix_dict[\"1q2y.pdb\"], 'RGB')\n",
    "img.save('1q2y.png')\n",
    "img.show()"
   ]
  },
  {
   "cell_type": "markdown",
   "metadata": {},
   "source": [
    "## Dimensionality Reduction with Autoencoders"
   ]
  },
  {
   "cell_type": "code",
   "execution_count": 7,
   "metadata": {},
   "outputs": [
    {
     "name": "stderr",
     "output_type": "stream",
     "text": [
      "/home/apaydin/anaconda3/lib/python3.6/site-packages/h5py/__init__.py:34: FutureWarning: Conversion of the second argument of issubdtype from `float` to `np.floating` is deprecated. In future, it will be treated as `np.float64 == np.dtype(float).type`.\n",
      "  from ._conv import register_converters as _register_converters\n"
     ]
    }
   ],
   "source": [
    "import tensorflow as tf\n",
    "from tensorflow.contrib.layers import fully_connected"
   ]
  },
  {
   "cell_type": "code",
   "execution_count": 11,
   "metadata": {},
   "outputs": [
    {
     "name": "stdout",
     "output_type": "stream",
     "text": [
      "['/device:CPU:0']\n"
     ]
    }
   ],
   "source": [
    "from tensorflow.python.client import device_lib\n",
    "\n",
    "def get_available_gpus():\n",
    "    local_device_protos = device_lib.list_local_devices()\n",
    "    return [x.name for x in local_device_protos]\n",
    "print(get_available_gpus())"
   ]
  },
  {
   "cell_type": "code",
   "execution_count": 12,
   "metadata": {
    "collapsed": true
   },
   "outputs": [],
   "source": [
    "def StackedAutoencoderWithTiedWeights(X_train, input_size, n_hidden1, n_hidden2):\n",
    "    with tf.device('/device:GPU:0'):\n",
    "        n_inputs = input_size \n",
    "        n_hidden1 = n_hidden1\n",
    "    n_hidden2 =  n_hidden2 # codings\n",
    "    n_hidden3 = n_hidden1 \n",
    "    n_outputs = n_inputs\n",
    "\n",
    "    learning_rate = 0.01\n",
    "    l2_reg = 0.001\n",
    "\n",
    "    activation = tf.nn.elu\n",
    "    regularizer = tf.contrib.layers.l2_regularizer(l2_reg)\n",
    "    initializer = tf.contrib.layers.variance_scaling_initializer()\n",
    "\n",
    "    X = tf.placeholder(tf.float32, shape=[None, n_inputs])\n",
    "    keep_prob = tf.placeholder(tf.float32)\n",
    "\n",
    "    weights1_init = initializer([n_inputs, n_hidden1])\n",
    "    weights2_init = initializer([n_hidden1, n_hidden2])\n",
    "\n",
    "    weights1 = tf.Variable(weights1_init, dtype=tf.float32, name=\"weights1\") \n",
    "    weights2 = tf.Variable(weights2_init, dtype=tf.float32, name=\"weights2\") \n",
    "    weights3 = tf.transpose(weights2, name=\"weights3\") # tied weights\n",
    "    weights4 = tf.transpose(weights1, name=\"weights4\") # tied weights\n",
    "\n",
    "    biases1 = tf.Variable(tf.zeros(n_hidden1), name=\"biases1\")\n",
    "    biases2 = tf.Variable(tf.zeros(n_hidden2), name=\"biases2\")\n",
    "    biases3 = tf.Variable(tf.zeros(n_hidden3), name=\"biases3\")\n",
    "    biases4 = tf.Variable(tf.zeros(n_outputs), name=\"biases4\")\n",
    "\n",
    "    hidden1 = activation(tf.matmul(X, weights1) + biases1)\n",
    "    hidden2 = activation(tf.matmul(hidden1, weights2) + biases2)\n",
    "    hidden3 = activation(tf.matmul(hidden2, weights3) + biases3)\n",
    "    outputs = tf.matmul(hidden3, weights4) + biases4\n",
    "\n",
    "    reconstruction_loss = tf.reduce_mean(tf.square(outputs - X))\n",
    "    reg_loss = regularizer(weights1) + regularizer(weights2)\n",
    "\n",
    "    loss = reconstruction_loss + reg_loss\n",
    "\n",
    "    optimizer = tf.train.AdamOptimizer(learning_rate)\n",
    "    training_op = optimizer.minimize(loss)\n",
    "\n",
    "    init = tf.global_variables_initializer()\n",
    "    \n",
    "    n_epochs = 5\n",
    "    \n",
    "    with tf.Session() as sess: \n",
    "        init.run() \n",
    "        for epoch in range(n_epochs):\n",
    "            sess.run(training_op, feed_dict={X: X_train})\n",
    "\n",
    "        features = hidden2.eval(feed_dict= {X: X_train})\n",
    "                \n",
    "    return features"
   ]
  },
  {
   "cell_type": "code",
   "execution_count": 13,
   "metadata": {},
   "outputs": [
    {
     "name": "stdout",
     "output_type": "stream",
     "text": [
      "1a4i.pdb (285, 285)\n",
      "500 \n",
      " --------------------------------------------------------\n",
      "1gji.pdb (275, 275)\n",
      "500 \n",
      " --------------------------------------------------------\n",
      "1a3q.pdb (285, 285)\n",
      "500 \n",
      " --------------------------------------------------------\n",
      "1b0a.pdb (287, 287)\n",
      "500 \n",
      " --------------------------------------------------------\n",
      "1n71.pdb (179, 179)\n",
      "500 \n",
      " --------------------------------------------------------\n",
      "1q2y.pdb (140, 140)\n",
      "500 \n",
      " --------------------------------------------------------\n",
      "1a02.pdb (280, 280)\n",
      "500 \n",
      " --------------------------------------------------------\n",
      "1m4d.pdb (176, 176)\n",
      "500 \n",
      " --------------------------------------------------------\n",
      "1ee9.pdb (317, 317)\n",
      "500 \n",
      " --------------------------------------------------------\n"
     ]
    }
   ],
   "source": [
    "protein_features = {}\n",
    "for protein, matrix in protein_matrix_dict.items():\n",
    "    X_train = [np.array(matrix).flatten()]\n",
    "    input_size = len(X_train[0])\n",
    "    \n",
    "    features = StackedAutoencoderWithTiedWeights(X_train, input_size, 1000, 500)\n",
    "    protein_features[protein] = features\n",
    "    \n",
    "    print(protein, matrix.shape)\n",
    "    print(len(features[0]), \"\\n --------------------------------------------------------\")"
   ]
  },
  {
   "cell_type": "code",
   "execution_count": 15,
   "metadata": {},
   "outputs": [],
   "source": [
    "C = [\"1a4i.pdb\", \"1b0a.pdb\", \"1ee9.pdb\"]\n",
    "B = [\"1a02.pdb\",\"1a3q.pdb\", \"1gji.pdb\"]\n",
    "D = [\"1m4d.pdb\", \"1n71.pdb\", \"1q2y.pdb\"]\n",
    "\n",
    "features = []\n",
    "\n",
    "for f in B:\n",
    "    features.append(protein_features[f][0])\n",
    "for f in C:\n",
    "    features.append(protein_features[f][0])\n",
    "for f in D:\n",
    "    features.append(protein_features[f][0])"
   ]
  },
  {
   "cell_type": "code",
   "execution_count": 16,
   "metadata": {},
   "outputs": [
    {
     "data": {
      "text/plain": [
       "array([[ 266932.7987715 ,   17329.2583987 ],\n",
       "       [ -48697.16825396,  207004.68949211],\n",
       "       [ -42832.17006953,  -19101.99583996],\n",
       "       [  -4835.28629582,   10941.04217857],\n",
       "       [  60130.26594138,  -63907.25231987],\n",
       "       [ -54685.38882788, -105270.26923879],\n",
       "       [ -53678.36111908,  -14663.91523654],\n",
       "       [ -57526.5870778 ,  -14687.80492589],\n",
       "       [ -64808.1030688 ,  -17643.75250835]])"
      ]
     },
     "execution_count": 16,
     "metadata": {},
     "output_type": "execute_result"
    }
   ],
   "source": [
    "import numpy as np\n",
    "from sklearn.decomposition import PCA\n",
    "\n",
    "pca = PCA(n_components=2)\n",
    "features_2d = pca.fit_transform(features)\n",
    "features_2d"
   ]
  },
  {
   "cell_type": "code",
   "execution_count": 17,
   "metadata": {
    "collapsed": true
   },
   "outputs": [],
   "source": [
    "x = [f[0] for f in features_2d]\n",
    "y = [f[1] for f in features_2d]"
   ]
  },
  {
   "cell_type": "code",
   "execution_count": 18,
   "metadata": {},
   "outputs": [
    {
     "data": {
      "image/png": "[encoded data removed]",
      "text/plain": [
       "<Figure size 432x288 with 1 Axes>"
      ]
     },
     "metadata": {},
     "output_type": "display_data"
    }
   ],
   "source": [
    "import numpy as np\n",
    "import matplotlib\n",
    "import matplotlib.pyplot as plt\n",
    "\n",
    "fig, ax = plt.subplots()\n",
    "ax.plot(x[:3], y[:3], 'ob')\n",
    "ax.plot(x[3:6], y[3:6], 'or')\n",
    "ax.plot(x[6:], y[6:], 'og')\n",
    "\n",
    "plt.show()"
   ]
  },
  {
   "cell_type": "code",
   "execution_count": null,
   "metadata": {
    "collapsed": true
   },
   "outputs": [],
   "source": []
  }
 ],
 "metadata": {
  "kernelspec": {
   "display_name": "Python [conda root]",
   "language": "python",
   "name": "conda-root-py"
  },
  "language_info": {
   "codemirror_mode": {
    "name": "ipython",
    "version": 3
   },
   "file_extension": ".py",
   "mimetype": "text/x-python",
   "name": "python",
   "nbconvert_exporter": "python",
   "pygments_lexer": "ipython3",
   "version": "3.6.4"
  }
 },
 "nbformat": 4,
 "nbformat_minor": 2
}
