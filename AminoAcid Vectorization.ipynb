{
 "cells": [
  {
   "cell_type": "code",
   "execution_count": 1,
   "metadata": {},
   "outputs": [],
   "source": [
    "from Bio import PDB\n",
    "from Bio.PDB.Polypeptide import PPBuilder\n",
    "from Bio.SeqUtils.ProtParam import ProteinAnalysis\n",
    "import numpy as np\n",
    "import os"
   ]
  },
  {
   "cell_type": "code",
   "execution_count": 2,
   "metadata": {},
   "outputs": [],
   "source": [
    "# Get and parse all pdb files in a folder\n",
    "\n",
    "def parsePdbFiles(dir_path):\n",
    "    structures = []\n",
    "    \n",
    "    files = os.listdir(dir_path)\n",
    "    pdb_files = [(f, os.path.join(dir_path, f)) for f in files if f.endswith(\".pdb\")]\n",
    "    \n",
    "    for pdb, pdb_path in pdb_files:\n",
    "        parser = PDB.PDBParser()\n",
    "        structure = parser.get_structure(pdb, pdb_path) \n",
    "        structures.append(structure)\n",
    "        \n",
    "    return structures"
   ]
  },
  {
   "cell_type": "code",
   "execution_count": 3,
   "metadata": {},
   "outputs": [
    {
     "name": "stderr",
     "output_type": "stream",
     "text": [
      "/usr/local/lib/python2.7/site-packages/Bio/PDB/StructureBuilder.py:90: PDBConstructionWarning: WARNING: Chain A is discontinuous at line 13044.\n",
      "  PDBConstructionWarning)\n",
      "/usr/local/lib/python2.7/site-packages/Bio/PDB/StructureBuilder.py:90: PDBConstructionWarning: WARNING: Chain B is discontinuous at line 13244.\n",
      "  PDBConstructionWarning)\n",
      "/usr/local/lib/python2.7/site-packages/Bio/PDB/StructureBuilder.py:90: PDBConstructionWarning: WARNING: Chain A is discontinuous at line 13414.\n",
      "  PDBConstructionWarning)\n",
      "/usr/local/lib/python2.7/site-packages/Bio/PDB/StructureBuilder.py:90: PDBConstructionWarning: WARNING: Chain B is discontinuous at line 13754.\n",
      "  PDBConstructionWarning)\n"
     ]
    },
    {
     "data": {
      "text/plain": [
       "[<Structure id=6c16.pdb>,\n",
       " <Structure id=1ubi.pdb>,\n",
       " <Structure id=1ubq.pdb>,\n",
       " <Structure id=1lyz.pdb>,\n",
       " <Structure id=6fig.pdb>]"
      ]
     },
     "execution_count": 3,
     "metadata": {},
     "output_type": "execute_result"
    }
   ],
   "source": [
    "structures = parsePdbFiles(\"pdb_sample\")\n",
    "structures"
   ]
  },
  {
   "cell_type": "code",
   "execution_count": 4,
   "metadata": {
    "scrolled": true
   },
   "outputs": [],
   "source": [
    "def getProteinInfo(structure):\n",
    "    ppb = PPBuilder()\n",
    "    for pp in ppb.build_peptides(structure):\n",
    "        sequence = pp.get_sequence()\n",
    "        print \"sequence: \", sequence\n",
    "\n",
    "        analysed_seq = ProteinAnalysis(str(sequence))\n",
    "        print \"molecular weight: \", analysed_seq.molecular_weight()\n",
    "        print \"amino acid counts: \", analysed_seq.count_amino_acids()\n",
    "        print \"---\""
   ]
  },
  {
   "cell_type": "code",
   "execution_count": 5,
   "metadata": {},
   "outputs": [
    {
     "name": "stdout",
     "output_type": "stream",
     "text": [
      "sequence:  AMPSIKLQSSDGEIFEVDVEIAKQSVTIKTMLED\n",
      "molecular weight:  3753.2525\n",
      "amino acid counts:  {'A': 2, 'C': 0, 'E': 4, 'D': 3, 'G': 1, 'F': 1, 'I': 4, 'H': 0, 'K': 3, 'M': 2, 'L': 2, 'N': 0, 'Q': 2, 'P': 1, 'S': 4, 'R': 0, 'T': 2, 'W': 0, 'V': 3, 'Y': 0}\n",
      "---\n",
      "sequence:  DDPVPLPNVNAAILKKVIQWCTHHKDDPP\n",
      "molecular weight:  3261.7067\n",
      "amino acid counts:  {'A': 2, 'C': 1, 'E': 0, 'D': 4, 'G': 0, 'F': 0, 'I': 2, 'H': 2, 'K': 3, 'M': 0, 'L': 2, 'N': 2, 'Q': 1, 'P': 5, 'S': 0, 'R': 0, 'T': 1, 'W': 1, 'V': 3, 'Y': 0}\n",
      "---\n",
      "sequence:  TDDIPVWDQEFLKVDQGTLFELILAANYLDIKGLLDVTCKTVANMIKGKTPEEIRKTFN\n",
      "molecular weight:  6713.6814\n",
      "amino acid counts:  {'A': 3, 'C': 1, 'E': 4, 'D': 6, 'G': 3, 'F': 3, 'I': 5, 'H': 0, 'K': 6, 'M': 1, 'L': 7, 'N': 3, 'Q': 2, 'P': 2, 'S': 0, 'R': 1, 'T': 6, 'W': 1, 'V': 4, 'Y': 1}\n",
      "---\n",
      "sequence:  DFTEEEEAQVRK\n",
      "molecular weight:  1480.5325\n",
      "amino acid counts:  {'A': 1, 'C': 0, 'E': 4, 'D': 1, 'G': 0, 'F': 1, 'I': 0, 'H': 0, 'K': 1, 'M': 0, 'L': 0, 'N': 0, 'Q': 1, 'P': 0, 'S': 0, 'R': 1, 'T': 1, 'W': 0, 'V': 1, 'Y': 0}\n",
      "---\n",
      "sequence:  AMPSIKLQSSDGEIFEVDVEIAKQSVTIKTMLEDL\n",
      "molecular weight:  3866.4101\n",
      "amino acid counts:  {'A': 2, 'C': 0, 'E': 4, 'D': 3, 'G': 1, 'F': 1, 'I': 4, 'H': 0, 'K': 3, 'M': 2, 'L': 3, 'N': 0, 'Q': 2, 'P': 1, 'S': 4, 'R': 0, 'T': 2, 'W': 0, 'V': 3, 'Y': 0}\n",
      "---\n",
      "sequence:  DDDPVPLPNVNAAILKKVIQWCTHHKDDP\n",
      "molecular weight:  3279.6789\n",
      "amino acid counts:  {'A': 2, 'C': 1, 'E': 0, 'D': 5, 'G': 0, 'F': 0, 'I': 2, 'H': 2, 'K': 3, 'M': 0, 'L': 2, 'N': 2, 'Q': 1, 'P': 4, 'S': 0, 'R': 0, 'T': 1, 'W': 1, 'V': 3, 'Y': 0}\n",
      "---\n",
      "sequence:  EKRTDDIPVWDQEFLKVDQGTLFELILAANYLDIKGLLDVTCKTVANMIKGKTPEEIRKTFNI\n",
      "molecular weight:  7240.311\n",
      "amino acid counts:  {'A': 3, 'C': 1, 'E': 5, 'D': 6, 'G': 3, 'F': 3, 'I': 6, 'H': 0, 'K': 7, 'M': 1, 'L': 7, 'N': 3, 'Q': 2, 'P': 2, 'S': 0, 'R': 2, 'T': 6, 'W': 1, 'V': 4, 'Y': 1}\n",
      "---\n",
      "sequence:  TEEEEAQVRKEN\n",
      "molecular weight:  1461.4879\n",
      "amino acid counts:  {'A': 1, 'C': 0, 'E': 5, 'D': 0, 'G': 0, 'F': 0, 'I': 0, 'H': 0, 'K': 1, 'M': 0, 'L': 0, 'N': 1, 'Q': 1, 'P': 0, 'S': 0, 'R': 1, 'T': 1, 'W': 0, 'V': 1, 'Y': 0}\n",
      "---\n",
      "sequence:  WMQREVWMSVFRYLSRRELCECMRVCKTWYKWCCD\n",
      "molecular weight:  4612.476\n",
      "amino acid counts:  {'A': 0, 'C': 5, 'E': 3, 'D': 1, 'G': 0, 'F': 1, 'I': 0, 'H': 0, 'K': 2, 'M': 3, 'L': 2, 'N': 0, 'Q': 1, 'P': 0, 'S': 2, 'R': 5, 'T': 1, 'W': 4, 'V': 3, 'Y': 2}\n",
      "---\n",
      "sequence:  MQIFVKTFRDRLRNLLPQTITLEVEPSDTIENVKAKIQDKEGIPPDQQVLIFSRKRLEDGRTLSDYNIQKESTLRLVLVF\n",
      "molecular weight:  9386.7439\n",
      "amino acid counts:  {'A': 1, 'C': 0, 'E': 6, 'D': 6, 'G': 2, 'F': 4, 'I': 7, 'H': 0, 'K': 6, 'M': 1, 'L': 10, 'N': 3, 'Q': 6, 'P': 4, 'S': 4, 'R': 7, 'T': 6, 'W': 0, 'V': 6, 'Y': 1}\n",
      "---\n",
      "sequence:  ESWMQREVWMSVFRYLSRRELCECMRVCKTWYKWCCDKRL\n",
      "molecular weight:  5226.1829\n",
      "amino acid counts:  {'A': 0, 'C': 5, 'E': 4, 'D': 1, 'G': 0, 'F': 1, 'I': 0, 'H': 0, 'K': 3, 'M': 3, 'L': 3, 'N': 0, 'Q': 1, 'P': 0, 'S': 3, 'R': 6, 'T': 1, 'W': 4, 'V': 3, 'Y': 2}\n",
      "---\n",
      "sequence:  SGMQIFVKTFRDRLRNLLPQTITLEVEPSDTIENVKAKIQDKEGIPPDQQVLIFSRKRLEDGRTLSDYNIQKESTLRLVLVF\n",
      "molecular weight:  9530.8725\n",
      "amino acid counts:  {'A': 1, 'C': 0, 'E': 6, 'D': 6, 'G': 3, 'F': 4, 'I': 7, 'H': 0, 'K': 6, 'M': 1, 'L': 10, 'N': 3, 'Q': 6, 'P': 4, 'S': 5, 'R': 7, 'T': 6, 'W': 0, 'V': 6, 'Y': 1}\n",
      "---\n"
     ]
    }
   ],
   "source": [
    "getProteinInfo(structures[0])"
   ]
  },
  {
   "cell_type": "markdown",
   "metadata": {},
   "source": [
    "### Aminoacid pair distance Matrix"
   ]
  },
  {
   "cell_type": "code",
   "execution_count": 6,
   "metadata": {},
   "outputs": [],
   "source": [
    "def AminoacidPairDistanceMatrix(structure):\n",
    "    aa_vectors = {} # aminoacid vector dictionary {aa_id: aa_carbon_coordinate} \n",
    "\n",
    "    aa_id = 0 # aminoacid id\n",
    "    for model in structure:\n",
    "        for chain in model:\n",
    "            for residue in chain:\n",
    "                try:\n",
    "                    coords_CA = residue['CA'].coord # x,y,z coordinates of the C-alpha atom\n",
    "                    aa_vectors[aa_id] = coords_CA\n",
    "                except:\n",
    "                    continue\n",
    "                aa_id += 1\n",
    "\n",
    "    aa_distance_matrix = [] # Aminoacid pair distance matrix\n",
    "    for vec in aa_vectors.values():\n",
    "        dist_vec = []\n",
    "        for vec_ in aa_vectors.values():\n",
    "            distance = np.linalg.norm(vec-vec_)\n",
    "            dist_vec.append(distance)\n",
    "        aa_distance_matrix.append(dist_vec)\n",
    "        \n",
    "    return np.array(aa_distance_matrix)"
   ]
  },
  {
   "cell_type": "code",
   "execution_count": 7,
   "metadata": {},
   "outputs": [
    {
     "name": "stdout",
     "output_type": "stream",
     "text": [
      "6c16.pdb (510, 510)\n",
      "1ubi.pdb (76, 76)\n",
      "1ubq.pdb (76, 76)\n",
      "1lyz.pdb (129, 129)\n",
      "6fig.pdb (775, 775)\n"
     ]
    }
   ],
   "source": [
    "protein_matrix_dict = {}\n",
    "for protein in structures:\n",
    "    protein_matrix = AminoacidPairDistanceMatrix(protein)\n",
    "    protein_matrix_dict[protein.id] = protein_matrix\n",
    "    print protein.id, protein_matrix.shape"
   ]
  },
  {
   "cell_type": "markdown",
   "metadata": {},
   "source": [
    "## Dimensionality Reduction with Autoencoders"
   ]
  },
  {
   "cell_type": "code",
   "execution_count": 8,
   "metadata": {},
   "outputs": [],
   "source": [
    "import tensorflow as tf\n",
    "from tensorflow.contrib.layers import fully_connected"
   ]
  },
  {
   "cell_type": "code",
   "execution_count": 19,
   "metadata": {},
   "outputs": [],
   "source": [
    "def StackedAutoencoderWithTiedWeights(X_train, input_size, n_hidden1, n_hidden2):\n",
    "    n_inputs = input_size \n",
    "    n_hidden1 = n_hidden1\n",
    "    n_hidden2 =  n_hidden2 # codings\n",
    "    n_hidden3 = n_hidden1 \n",
    "    n_outputs = n_inputs\n",
    "\n",
    "    learning_rate = 0.01\n",
    "    l2_reg = 0.001\n",
    "\n",
    "    activation = tf.nn.elu\n",
    "    regularizer = tf.contrib.layers.l2_regularizer(l2_reg)\n",
    "    initializer = tf.contrib.layers.variance_scaling_initializer()\n",
    "\n",
    "    X = tf.placeholder(tf.float32, shape=[None, n_inputs])\n",
    "    keep_prob = tf.placeholder(tf.float32)\n",
    "\n",
    "    weights1_init = initializer([n_inputs, n_hidden1])\n",
    "    weights2_init = initializer([n_hidden1, n_hidden2])\n",
    "\n",
    "    weights1 = tf.Variable(weights1_init, dtype=tf.float32, name=\"weights1\") \n",
    "    weights2 = tf.Variable(weights2_init, dtype=tf.float32, name=\"weights2\") \n",
    "    weights3 = tf.transpose(weights2, name=\"weights3\") # tied weights\n",
    "    weights4 = tf.transpose(weights1, name=\"weights4\") # tied weights\n",
    "\n",
    "    biases1 = tf.Variable(tf.zeros(n_hidden1), name=\"biases1\")\n",
    "    biases2 = tf.Variable(tf.zeros(n_hidden2), name=\"biases2\")\n",
    "    biases3 = tf.Variable(tf.zeros(n_hidden3), name=\"biases3\")\n",
    "    biases4 = tf.Variable(tf.zeros(n_outputs), name=\"biases4\")\n",
    "\n",
    "    hidden1 = activation(tf.matmul(X, weights1) + biases1)\n",
    "    hidden2 = activation(tf.matmul(hidden1, weights2) + biases2)\n",
    "    hidden3 = activation(tf.matmul(hidden2, weights3) + biases3)\n",
    "    outputs = tf.matmul(hidden3, weights4) + biases4\n",
    "\n",
    "    reconstruction_loss = tf.reduce_mean(tf.square(outputs - X))\n",
    "    reg_loss = regularizer(weights1) + regularizer(weights2)\n",
    "\n",
    "    loss = reconstruction_loss + reg_loss\n",
    "\n",
    "    optimizer = tf.train.AdamOptimizer(learning_rate)\n",
    "    training_op = optimizer.minimize(loss)\n",
    "\n",
    "    init = tf.global_variables_initializer()\n",
    "    \n",
    "    n_epochs = 5\n",
    "    \n",
    "    with tf.Session() as sess: \n",
    "        init.run() \n",
    "        for epoch in range(n_epochs):\n",
    "            sess.run(training_op, feed_dict={X: X_train})\n",
    "                \n",
    "        features = hidden2.eval(feed_dict= {X: X_train})\n",
    "                \n",
    "    return features"
   ]
  },
  {
   "cell_type": "code",
   "execution_count": 20,
   "metadata": {},
   "outputs": [],
   "source": [
    "protein_m = protein_matrix_dict[\"1ubi.pdb\"]\n",
    "X_train = [np.array(protein_m).flatten()]\n",
    "\n",
    "features = StackedAutoencoderWithTiedWeights(X_train, len(X_train[0]), 50, 25)"
   ]
  },
  {
   "cell_type": "code",
   "execution_count": 21,
   "metadata": {},
   "outputs": [
    {
     "data": {
      "text/plain": [
       "array([[432.985   ,  -1.      ,  -1.      ,  -1.      ,  -1.      ,\n",
       "         -1.      ,  -1.      ,  -1.      ,  -1.      , 174.59323 ,\n",
       "         23.438284, 580.71204 ,  -1.      ,  -1.      ,  -1.      ,\n",
       "         -1.      ,  -1.      ,  -1.      ,  -1.      , 776.46625 ,\n",
       "         -1.      ,  -1.      , 260.1924  , 618.3449  ,  -1.      ]],\n",
       "      dtype=float32)"
      ]
     },
     "execution_count": 21,
     "metadata": {},
     "output_type": "execute_result"
    }
   ],
   "source": [
    "features"
   ]
  },
  {
   "cell_type": "code",
   "execution_count": null,
   "metadata": {},
   "outputs": [],
   "source": [
    "for protein, matrix in protein_matrix_dict.items():\n",
    "    X_train = [np.array(matrix).flatten()]\n",
    "    input_size = len(X_train[0])\n",
    "    \n",
    "    features = StackedAutoencoderWithTiedWeights(X_train, input_size, 1000, 500)\n",
    "    dr\n",
    "    print protein, matrix.shape\n",
    "    print len(features)\n",
    "    print features, \"\\n --------------------------------------------------------\""
   ]
  },
  {
   "cell_type": "code",
   "execution_count": null,
   "metadata": {},
   "outputs": [],
   "source": []
  },
  {
   "cell_type": "code",
   "execution_count": null,
   "metadata": {},
   "outputs": [],
   "source": []
  },
  {
   "cell_type": "code",
   "execution_count": null,
   "metadata": {},
   "outputs": [],
   "source": []
  },
  {
   "cell_type": "code",
   "execution_count": null,
   "metadata": {},
   "outputs": [],
   "source": []
  },
  {
   "cell_type": "code",
   "execution_count": null,
   "metadata": {},
   "outputs": [],
   "source": [
    "from PIL import Image\n",
    "img = Image.fromarray(np.array(residue_distance_matrix), 'RGB')\n",
    "img.save('my2.png')\n",
    "img.show()"
   ]
  },
  {
   "cell_type": "raw",
   "metadata": {},
   "source": [
    "Charged (side chains often make salt bridges): \n",
    "•\tArginine - Arg - R \n",
    "•\tLysine - Lys - K \n",
    "•\tAspartic acid - Asp - D \n",
    "•\tGlutamic acid - Glu - E \n",
    "\n",
    "Polar (usually participate in hydrogen bonds as proton donors or acceptors):\n",
    "•\tGlutamine - Gln - Q \n",
    "•\tAsparagine - Asn - N \n",
    "•\tHistidine - His - H \n",
    "•\tSerine - Ser - S \n",
    "•\tThreonine - Thr - T \n",
    "•\tTyrosine - Tyr - Y \n",
    "•\tCysteine - Cys - C \n",
    "•\tTryptophan - Trp - W \n",
    "\n",
    "Hydrophobic (normally buried inside the protein core):\n",
    "•\tAlanine - Ala - A \n",
    "•\tIsoleucine - Ile - I \n",
    "•\tLeucine - Leu - L \n",
    "•\tMethionine - Met - M \n",
    "•\tPhenylalanine - Phe - F \n",
    "•\tValine - Val - V \n",
    "•\tProline - Pro - P \n",
    "•\tGlycine - Gly - G "
   ]
  },
  {
   "cell_type": "code",
   "execution_count": null,
   "metadata": {},
   "outputs": [],
   "source": []
  }
 ],
 "metadata": {
  "kernelspec": {
   "display_name": "Python 2",
   "language": "python",
   "name": "python2"
  },
  "language_info": {
   "codemirror_mode": {
    "name": "ipython",
    "version": 2
   },
   "file_extension": ".py",
   "mimetype": "text/x-python",
   "name": "python",
   "nbconvert_exporter": "python",
   "pygments_lexer": "ipython2",
   "version": "2.7.15"
  }
 },
 "nbformat": 4,
 "nbformat_minor": 2
}
