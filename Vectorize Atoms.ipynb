{
 "cells": [
  {
   "cell_type": "code",
   "execution_count": 22,
   "metadata": {},
   "outputs": [],
   "source": [
    "import pandas as pd\n",
    "import numpy as np\n",
    "from rdkit import Chem\n",
    "from rdkit.Chem import Draw\n",
    "from rdkit.Chem.Draw import IPythonConsole\n",
    "from IPython.core.display import display\n",
    "from copy import deepcopy\n",
    "from rdkit.Chem import AllChem"
   ]
  },
  {
   "cell_type": "markdown",
   "metadata": {},
   "source": [
    "## Reading protein data"
   ]
  },
  {
   "cell_type": "code",
   "execution_count": 2,
   "metadata": {},
   "outputs": [],
   "source": [
    "data = pd.read_csv(\"pdbbind_core_df.csv\")"
   ]
  },
  {
   "cell_type": "code",
   "execution_count": 3,
   "metadata": {
    "scrolled": false
   },
   "outputs": [
    {
     "data": {
      "text/html": [
       "<div>\n",
       "<style scoped>\n",
       "    .dataframe tbody tr th:only-of-type {\n",
       "        vertical-align: middle;\n",
       "    }\n",
       "\n",
       "    .dataframe tbody tr th {\n",
       "        vertical-align: top;\n",
       "    }\n",
       "\n",
       "    .dataframe thead th {\n",
       "        text-align: right;\n",
       "    }\n",
       "</style>\n",
       "<table border=\"1\" class=\"dataframe\">\n",
       "  <thead>\n",
       "    <tr style=\"text-align: right;\">\n",
       "      <th></th>\n",
       "      <th>pdb_id</th>\n",
       "      <th>smiles</th>\n",
       "      <th>complex_id</th>\n",
       "      <th>protein_pdb</th>\n",
       "      <th>ligand_pdb</th>\n",
       "      <th>ligand_mol2</th>\n",
       "      <th>label</th>\n",
       "    </tr>\n",
       "  </thead>\n",
       "  <tbody>\n",
       "    <tr>\n",
       "      <th>0</th>\n",
       "      <td>2d3u</td>\n",
       "      <td>CC1CCCCC1S(O)(O)NC1CC(C2CCC(CN)CC2)SC1C(O)O</td>\n",
       "      <td>2d3uCC1CCCCC1S(O)(O)NC1CC(C2CCC(CN)CC2)SC1C(O)O</td>\n",
       "      <td>['HEADER    2D3U PROTEIN\\n', 'COMPND    2D3U P...</td>\n",
       "      <td>['COMPND    2d3u ligand \\n', 'AUTHOR    GENERA...</td>\n",
       "      <td>['### \\n', '### Created by X-TOOL on Thu Aug 2...</td>\n",
       "      <td>6.92</td>\n",
       "    </tr>\n",
       "    <tr>\n",
       "      <th>1</th>\n",
       "      <td>3cyx</td>\n",
       "      <td>CC(C)(C)NC(O)C1CC2CCCCC2C[NH+]1CC(O)C(CC1CCCCC...</td>\n",
       "      <td>3cyxCC(C)(C)NC(O)C1CC2CCCCC2C[NH+]1CC(O)C(CC1C...</td>\n",
       "      <td>['HEADER    3CYX PROTEIN\\n', 'COMPND    3CYX P...</td>\n",
       "      <td>['COMPND    3cyx ligand \\n', 'AUTHOR    GENERA...</td>\n",
       "      <td>['### \\n', '### Created by X-TOOL on Thu Aug 2...</td>\n",
       "      <td>8.00</td>\n",
       "    </tr>\n",
       "    <tr>\n",
       "      <th>2</th>\n",
       "      <td>3uo4</td>\n",
       "      <td>OC(O)C1CCC(NC2NCCC(NC3CCCCC3C3CCCCC3)N2)CC1</td>\n",
       "      <td>3uo4OC(O)C1CCC(NC2NCCC(NC3CCCCC3C3CCCCC3)N2)CC1</td>\n",
       "      <td>['HEADER    3UO4 PROTEIN\\n', 'COMPND    3UO4 P...</td>\n",
       "      <td>['COMPND    3uo4 ligand \\n', 'AUTHOR    GENERA...</td>\n",
       "      <td>['### \\n', '### Created by X-TOOL on Fri Aug 2...</td>\n",
       "      <td>6.52</td>\n",
       "    </tr>\n",
       "    <tr>\n",
       "      <th>3</th>\n",
       "      <td>1p1q</td>\n",
       "      <td>CC1ONC(O)C1CC([NH3+])C(O)O</td>\n",
       "      <td>1p1qCC1ONC(O)C1CC([NH3+])C(O)O</td>\n",
       "      <td>['HEADER    1P1Q PROTEIN\\n', 'COMPND    1P1Q P...</td>\n",
       "      <td>['COMPND    1p1q ligand \\n', 'AUTHOR    GENERA...</td>\n",
       "      <td>['### \\n', '### Created by X-TOOL on Thu Aug 2...</td>\n",
       "      <td>4.89</td>\n",
       "    </tr>\n",
       "  </tbody>\n",
       "</table>\n",
       "</div>"
      ],
      "text/plain": [
       "  pdb_id                                             smiles  \\\n",
       "0   2d3u        CC1CCCCC1S(O)(O)NC1CC(C2CCC(CN)CC2)SC1C(O)O   \n",
       "1   3cyx  CC(C)(C)NC(O)C1CC2CCCCC2C[NH+]1CC(O)C(CC1CCCCC...   \n",
       "2   3uo4        OC(O)C1CCC(NC2NCCC(NC3CCCCC3C3CCCCC3)N2)CC1   \n",
       "3   1p1q                         CC1ONC(O)C1CC([NH3+])C(O)O   \n",
       "\n",
       "                                          complex_id  \\\n",
       "0    2d3uCC1CCCCC1S(O)(O)NC1CC(C2CCC(CN)CC2)SC1C(O)O   \n",
       "1  3cyxCC(C)(C)NC(O)C1CC2CCCCC2C[NH+]1CC(O)C(CC1C...   \n",
       "2    3uo4OC(O)C1CCC(NC2NCCC(NC3CCCCC3C3CCCCC3)N2)CC1   \n",
       "3                     1p1qCC1ONC(O)C1CC([NH3+])C(O)O   \n",
       "\n",
       "                                         protein_pdb  \\\n",
       "0  ['HEADER    2D3U PROTEIN\\n', 'COMPND    2D3U P...   \n",
       "1  ['HEADER    3CYX PROTEIN\\n', 'COMPND    3CYX P...   \n",
       "2  ['HEADER    3UO4 PROTEIN\\n', 'COMPND    3UO4 P...   \n",
       "3  ['HEADER    1P1Q PROTEIN\\n', 'COMPND    1P1Q P...   \n",
       "\n",
       "                                          ligand_pdb  \\\n",
       "0  ['COMPND    2d3u ligand \\n', 'AUTHOR    GENERA...   \n",
       "1  ['COMPND    3cyx ligand \\n', 'AUTHOR    GENERA...   \n",
       "2  ['COMPND    3uo4 ligand \\n', 'AUTHOR    GENERA...   \n",
       "3  ['COMPND    1p1q ligand \\n', 'AUTHOR    GENERA...   \n",
       "\n",
       "                                         ligand_mol2  label  \n",
       "0  ['### \\n', '### Created by X-TOOL on Thu Aug 2...   6.92  \n",
       "1  ['### \\n', '### Created by X-TOOL on Thu Aug 2...   8.00  \n",
       "2  ['### \\n', '### Created by X-TOOL on Fri Aug 2...   6.52  \n",
       "3  ['### \\n', '### Created by X-TOOL on Thu Aug 2...   4.89  "
      ]
     },
     "execution_count": 3,
     "metadata": {},
     "output_type": "execute_result"
    }
   ],
   "source": [
    "data.head(4)"
   ]
  },
  {
   "cell_type": "markdown",
   "metadata": {},
   "source": [
    "## Getting unique atoms and number of unique atoms in the dataframe"
   ]
  },
  {
   "cell_type": "code",
   "execution_count": 4,
   "metadata": {},
   "outputs": [],
   "source": [
    "def GetAtomData(smiles_data):\n",
    "    atoms = set()\n",
    "    for mol in smiles_data:\n",
    "        mol_atoms = Chem.MolFromSmiles(mol).GetAtoms()\n",
    "        for atom in mol_atoms:\n",
    "            atoms.add(atom.GetSymbol())\n",
    "    return list(atoms), len(atoms)"
   ]
  },
  {
   "cell_type": "code",
   "execution_count": 5,
   "metadata": {},
   "outputs": [
    {
     "data": {
      "text/plain": [
       "['CC1CCCCC1S(O)(O)NC1CC(C2CCC(CN)CC2)SC1C(O)O',\n",
       " 'CC(C)(C)NC(O)C1CC2CCCCC2C[NH+]1CC(O)C(CC1CCCCC1)NC(O)C(CC(N)O)NC(O)C1CCC2CCCCC2N1']"
      ]
     },
     "execution_count": 5,
     "metadata": {},
     "output_type": "execute_result"
    }
   ],
   "source": [
    "smiles = list(data['smiles'].values)\n",
    "smiles[:2]"
   ]
  },
  {
   "cell_type": "code",
   "execution_count": 6,
   "metadata": {},
   "outputs": [],
   "source": [
    "atoms, vector_size = GetAtomData(smiles)"
   ]
  },
  {
   "cell_type": "code",
   "execution_count": 7,
   "metadata": {},
   "outputs": [
    {
     "name": "stdout",
     "output_type": "stream",
     "text": [
      "Atoms:  ['C', 'Cl', 'I', 'F', 'O', 'N', 'P', 'S', 'Br']\n",
      "Vector size:  9\n"
     ]
    }
   ],
   "source": [
    "print \"Atoms: \", atoms\n",
    "print \"Vector size: \", vector_size"
   ]
  },
  {
   "cell_type": "markdown",
   "metadata": {},
   "source": [
    "## Atoms are assigned to a unique integer number"
   ]
  },
  {
   "cell_type": "markdown",
   "metadata": {},
   "source": [
    "* _Assigned integer values of atoms will be used to perform one-hot-encoding._"
   ]
  },
  {
   "cell_type": "code",
   "execution_count": 8,
   "metadata": {},
   "outputs": [],
   "source": [
    "def atomDicts(atoms):\n",
    "    atom2label = {}\n",
    "    label2atom = {}\n",
    "    for i, atom in enumerate(atoms):\n",
    "        atom2label[atom] = i\n",
    "        label2atom[i] = atom    \n",
    "    return atom2label, label2atom"
   ]
  },
  {
   "cell_type": "code",
   "execution_count": 9,
   "metadata": {},
   "outputs": [
    {
     "name": "stdout",
     "output_type": "stream",
     "text": [
      "{'C': 0, 'F': 3, 'I': 2, 'Cl': 1, 'O': 4, 'N': 5, 'P': 6, 'S': 7, 'Br': 8}\n",
      "{0: 'C', 1: 'Cl', 2: 'I', 3: 'F', 4: 'O', 5: 'N', 6: 'P', 7: 'S', 8: 'Br'}\n"
     ]
    }
   ],
   "source": [
    "atom2label, label2atom = atomDicts(atoms)\n",
    "print atom2label\n",
    "print label2atom"
   ]
  },
  {
   "cell_type": "markdown",
   "metadata": {},
   "source": [
    "## Creating (target, context) pairs"
   ]
  },
  {
   "cell_type": "code",
   "execution_count": 10,
   "metadata": {
    "scrolled": true
   },
   "outputs": [],
   "source": [
    "def targetContextPairs(mols):\n",
    "    target_context_pairs = []\n",
    "    for mol in mols:\n",
    "        mol = Chem.MolFromSmiles(mol)\n",
    "        for atom_idx in range(mol.GetNumAtoms()):\n",
    "            target = mol.GetAtomWithIdx(atom_idx).GetSymbol() # taking center atom as \"target\"\n",
    "            atom = mol.GetAtomWithIdx(atom_idx)\n",
    "            neighbors = atom.GetNeighbors()\n",
    "            for neighbor in neighbors:\n",
    "                context = neighbor.GetSymbol() # taking neighbor atoms as context\n",
    "                pair = (target, context)\n",
    "                target_context_pairs.append(pair)\n",
    "\n",
    "                #bond_type = mol.GetBondBetweenAtoms(atom_idx, neighbor.GetIdx()).GetBondType()\n",
    "    return target_context_pairs       "
   ]
  },
  {
   "cell_type": "code",
   "execution_count": 11,
   "metadata": {},
   "outputs": [],
   "source": [
    "target_context_pairs = targetContextPairs(smiles)"
   ]
  },
  {
   "cell_type": "code",
   "execution_count": 12,
   "metadata": {},
   "outputs": [
    {
     "data": {
      "text/plain": [
       "[('C', 'C'),\n",
       " ('C', 'C'),\n",
       " ('C', 'C'),\n",
       " ('C', 'C'),\n",
       " ('C', 'C'),\n",
       " ('C', 'C'),\n",
       " ('C', 'C'),\n",
       " ('C', 'C'),\n",
       " ('C', 'C'),\n",
       " ('C', 'C'),\n",
       " ('C', 'C'),\n",
       " ('C', 'C'),\n",
       " ('C', 'C'),\n",
       " ('C', 'S'),\n",
       " ('C', 'C'),\n",
       " ('S', 'C'),\n",
       " ('S', 'O'),\n",
       " ('S', 'O'),\n",
       " ('S', 'N'),\n",
       " ('O', 'S')]"
      ]
     },
     "execution_count": 12,
     "metadata": {},
     "output_type": "execute_result"
    }
   ],
   "source": [
    "target_context_pairs[:20]"
   ]
  },
  {
   "cell_type": "markdown",
   "metadata": {},
   "source": [
    "## One-hot-encoding"
   ]
  },
  {
   "cell_type": "markdown",
   "metadata": {},
   "source": [
    "The following function will prepare input (x) and output (Y) data. We will use these arrays to train our machine learning model.\n",
    "* x will contain target atoms' one-hot-encoded represantation.\n",
    "* Y will contain one-hot-encoded represantation of context atoms."
   ]
  },
  {
   "cell_type": "code",
   "execution_count": 13,
   "metadata": {},
   "outputs": [],
   "source": [
    "def createInputOutputData(target_context_pairs, vector_size, atom2label):\n",
    "    x,Y = [],[] # input and output vectors\n",
    "    for pair in target_context_pairs:\n",
    "        # initialize x_ and y_ vectors for x and y instances\n",
    "        x_ = [0]*vector_size # instance x\n",
    "        y_ = [0]*vector_size # instance y\n",
    "        \n",
    "        x_label, y_label = atom2label[pair[0]], atom2label[pair[1]]\n",
    "        # put 1 to the index where the atom's label equals to\n",
    "        x_[x_label] = 1\n",
    "        y_[y_label] = 1\n",
    "        \n",
    "        x.append(x_)\n",
    "        Y.append(y_)\n",
    "    return x, Y"
   ]
  },
  {
   "cell_type": "code",
   "execution_count": 31,
   "metadata": {},
   "outputs": [],
   "source": [
    "x,Y = createInputOutputData(target_context_pairs, vector_size, atom2label)"
   ]
  },
  {
   "cell_type": "code",
   "execution_count": 32,
   "metadata": {},
   "outputs": [],
   "source": [
    "train_x, train_Y = np.array(x), np.array(Y)"
   ]
  },
  {
   "cell_type": "code",
   "execution_count": 33,
   "metadata": {},
   "outputs": [
    {
     "name": "stdout",
     "output_type": "stream",
     "text": [
      "(10286, 9)\n",
      "(10286, 9)\n"
     ]
    }
   ],
   "source": [
    "print train_x.shape\n",
    "print train_Y.shape"
   ]
  },
  {
   "cell_type": "markdown",
   "metadata": {},
   "source": [
    "## Using a MLP with 2 hidden layers to Vectorize Atoms"
   ]
  },
  {
   "cell_type": "code",
   "execution_count": 21,
   "metadata": {},
   "outputs": [],
   "source": [
    "import tensorflow as tf"
   ]
  },
  {
   "cell_type": "code",
   "execution_count": 59,
   "metadata": {},
   "outputs": [],
   "source": [
    "# Parameters\n",
    "learning_rate = 0.001\n",
    "training_epochs = 15\n",
    "batch_size = 50\n",
    "display_step = 1\n",
    "\n",
    "# Network Parameters\n",
    "n_hidden_1 = 81 # 1st layer number of neurons\n",
    "n_hidden_2 = 27 # 2nd layer number of neurons\n",
    "n_input = 9 # An atom is represented with 9 digits\n",
    "n_classes = 9 # An atom is represented with 9 digits"
   ]
  },
  {
   "cell_type": "code",
   "execution_count": 60,
   "metadata": {},
   "outputs": [],
   "source": [
    "# tf Graph input\n",
    "X = tf.placeholder(\"float\", [None, n_input])\n",
    "Y = tf.placeholder(\"float\", [None, n_classes])\n",
    "\n",
    "# Store layers weight & bias\n",
    "weights = {\n",
    "    'h1': tf.Variable(tf.random_normal([n_input, n_hidden_1])),\n",
    "    'h2': tf.Variable(tf.random_normal([n_hidden_1, n_hidden_2])),\n",
    "    'out': tf.Variable(tf.random_normal([n_hidden_2, n_classes]))\n",
    "}\n",
    "biases = {\n",
    "    'b1': tf.Variable(tf.random_normal([n_hidden_1])),\n",
    "    'b2': tf.Variable(tf.random_normal([n_hidden_2])),\n",
    "    'out': tf.Variable(tf.random_normal([n_classes]))\n",
    "}"
   ]
  },
  {
   "cell_type": "code",
   "execution_count": 61,
   "metadata": {},
   "outputs": [],
   "source": [
    "# Create model\n",
    "def multilayer_perceptron(x):\n",
    "    # Hidden fully connected layer with 256 neurons\n",
    "    layer_1 = tf.add(tf.matmul(x, weights['h1']), biases['b1'])\n",
    "    # Hidden fully connected layer with 256 neurons\n",
    "    layer_2 = tf.add(tf.matmul(layer_1, weights['h2']), biases['b2'])\n",
    "    # Output fully connected layer with a neuron for each class\n",
    "    out_layer = tf.matmul(layer_2, weights['out']) + biases['out']\n",
    "    return out_layer"
   ]
  },
  {
   "cell_type": "code",
   "execution_count": 62,
   "metadata": {},
   "outputs": [],
   "source": [
    "# Construct model\n",
    "logits = multilayer_perceptron(X)\n",
    "\n",
    "# Define loss and optimizer\n",
    "loss_op = tf.reduce_mean(tf.nn.softmax_cross_entropy_with_logits(\n",
    "    logits=logits, labels=Y))\n",
    "optimizer = tf.train.AdamOptimizer(learning_rate=learning_rate)\n",
    "train_op = optimizer.minimize(loss_op)"
   ]
  },
  {
   "cell_type": "code",
   "execution_count": 63,
   "metadata": {
    "scrolled": true
   },
   "outputs": [
    {
     "name": "stdout",
     "output_type": "stream",
     "text": [
      "Epoch: 0001 cost=5.502621198\n",
      "Epoch: 0002 cost=1.151240101\n",
      "Epoch: 0003 cost=0.547088783\n",
      "Epoch: 0004 cost=0.575510609\n",
      "Epoch: 0005 cost=0.463730979\n",
      "Epoch: 0006 cost=0.655795952\n",
      "Epoch: 0007 cost=0.576615155\n",
      "Epoch: 0008 cost=0.691499697\n",
      "Epoch: 0009 cost=1.322073454\n",
      "Epoch: 0010 cost=0.683685144\n",
      "Epoch: 0011 cost=1.786308809\n",
      "Epoch: 0012 cost=0.855141848\n",
      "Epoch: 0013 cost=0.531419835\n",
      "Epoch: 0014 cost=0.563166715\n",
      "Epoch: 0015 cost=0.515693263\n",
      "Optimization Finished!\n",
      "('Training set Accuracy:', 0.7703675)\n"
     ]
    }
   ],
   "source": [
    "# Initializing the variables\n",
    "init = tf.global_variables_initializer()\n",
    "\n",
    "with tf.Session() as sess:\n",
    "    sess.run(init)\n",
    "    batch_start = 0\n",
    "\n",
    "    # Training cycle\n",
    "    for epoch in range(training_epochs):\n",
    "        avg_cost = 0.\n",
    "        batch_end = batch_start + batch_size\n",
    "        total_batch = int(train_x.shape[0]/batch_size)\n",
    "        # Loop over all batches\n",
    "        for i in range(total_batch):\n",
    "            batch_x, batch_y = np.array(train_x[batch_start:batch_end]), np.array(train_Y[batch_start:batch_end])\n",
    "            # Run optimization op (backprop) and cost op (to get loss value)\n",
    "            _, c = sess.run([train_op, loss_op], feed_dict={X: batch_x,\n",
    "                                                            Y: batch_y})\n",
    "            # Compute average loss\n",
    "            avg_cost += c / total_batch\n",
    "        batch_start = batch_end\n",
    "        # Display logs per epoch step\n",
    "        if epoch % display_step == 0:\n",
    "            print \"Epoch:\", '%04d' % (epoch+1), \"cost={:.9f}\".format(avg_cost)\n",
    "    print(\"Optimization Finished!\")\n",
    "\n",
    "    # Test model\n",
    "    pred = tf.nn.softmax(logits)  # Apply softmax to logits\n",
    "    correct_prediction = tf.equal(tf.argmax(pred, 1), tf.argmax(Y, 1))\n",
    "    # Calculate accuracy\n",
    "    accuracy = tf.reduce_mean(tf.cast(correct_prediction, \"float\"))\n",
    "    print(\"Training set Accuracy:\", accuracy.eval({X: train_x, Y: train_Y}))"
   ]
  },
  {
   "cell_type": "markdown",
   "metadata": {},
   "source": [
    "# Vectors of atoms"
   ]
  },
  {
   "cell_type": "markdown",
   "metadata": {},
   "source": [
    "First hidden layer's weights will give us atoms' vectors. Since we created the first hiddenlayer with 81 neurons, atoms' vector size will be equal to 81."
   ]
  },
  {
   "cell_type": "code",
   "execution_count": 64,
   "metadata": {},
   "outputs": [],
   "source": [
    "init = tf.global_variables_initializer()\n",
    "sess = tf.Session()\n",
    "sess.run(init)\n",
    "v = sess.run(weights['h1']) "
   ]
  },
  {
   "cell_type": "code",
   "execution_count": 65,
   "metadata": {},
   "outputs": [
    {
     "data": {
      "text/plain": [
       "(9, 81)"
      ]
     },
     "execution_count": 65,
     "metadata": {},
     "output_type": "execute_result"
    }
   ],
   "source": [
    "v.shape"
   ]
  },
  {
   "cell_type": "code",
   "execution_count": 67,
   "metadata": {},
   "outputs": [
    {
     "name": "stdout",
     "output_type": "stream",
     "text": [
      "C  :  [-0.30018643 -0.17919602  1.8915352  -0.02534358 -0.30059046 -1.0837185\n",
      " -2.3945599  -0.29558158 -0.39843354  0.08644951 -1.3563019   0.7131067\n",
      " -0.56933266  0.8171031  -0.5803338   0.22451052  0.44380444 -0.46835646\n",
      "  0.97925353  0.40043256 -0.9409464  -0.36971062  0.06300923  0.55001384\n",
      " -0.5860386  -0.74259055  0.9715004   0.40199783  0.9863616   0.43245214\n",
      " -2.3986623   0.17079322 -0.0055041  -0.9013104   1.217958   -1.4547238\n",
      "  1.7389457  -0.9314999  -0.14577913 -0.5361576  -0.7907156   0.07985448\n",
      "  1.1786083  -0.2847233   0.7530563   0.8074845   0.04999667  0.6912234\n",
      " -0.9677285   2.7346764  -2.9489512  -1.0514557   0.56491184  0.24221055\n",
      "  0.7621061  -0.6038643  -1.0055978   0.08590884 -0.90245456  1.6845027\n",
      " -0.01998931 -0.30453536  1.2562642   1.2689692   1.844025    0.85132533\n",
      " -0.04528829 -2.2920086  -0.6998998   0.0959399  -0.4436187   0.43356785\n",
      "  1.3437775  -0.7333994   0.12874192  0.8986841  -0.37116918  2.0463784\n",
      " -2.8087692  -1.7718322  -1.3715562 ]\n",
      "Cl  :  [-0.29289827  1.022032   -0.7315861   2.587123    0.3595393   1.2641706\n",
      " -0.32247284 -3.0722575  -0.5483629  -1.3433517  -0.01410115 -0.20370919\n",
      "  2.419736    2.7141688  -0.3525432  -1.8521671  -0.03351068 -0.8652543\n",
      "  2.06285     0.39125702  0.66687953 -1.749021    2.0456033  -0.77679604\n",
      " -0.12190955  1.2222779   0.2900447  -0.53136116  2.498703    0.10427901\n",
      " -0.5262648  -0.21482576  1.4517645   1.9436837   0.36134183  2.2752628\n",
      "  1.2675892   0.09547857  0.7384026   1.8458624  -0.35998672 -0.51100576\n",
      " -1.2971536   0.02562403  0.22825788  1.5064902  -0.20118807  0.41574928\n",
      "  0.4818602  -1.1706101   0.03074607  0.01619318  0.3890675   1.6724787\n",
      " -0.9542369  -1.003523   -0.22354497 -2.0022495   0.75936866  0.19999653\n",
      " -1.9468765   0.8515673   0.22815667  0.87117225  0.5849942   0.6085665\n",
      "  0.33754194 -0.73730916  0.2138697  -1.4979819   0.20912664 -1.2312965\n",
      " -0.03570443 -0.49612692 -2.578883   -0.4270572  -0.06318352  1.0570779\n",
      "  1.0819867  -1.9221884  -0.05634214]\n",
      "I  :  [-0.3574132   1.2507318  -0.26572996 -0.27935827 -2.252345    1.0696012\n",
      " -0.44658867  2.335335    1.472306   -1.3245623  -1.3432108   0.29578516\n",
      " -0.09491292 -0.7664667  -0.32705474  0.07802082 -1.2978963   0.3645994\n",
      " -0.23902212  1.5540049   0.6795      0.16787276  0.5364378  -0.40295407\n",
      "  1.4182101   0.52068543  0.3399531  -0.2902829   1.4482958  -1.5122176\n",
      "  0.16794735  1.0383306  -0.87334913 -0.31695557  0.7881972   0.75079536\n",
      " -0.8537468   0.34385282 -1.9741768  -1.7640198  -0.89849186 -0.862177\n",
      "  1.5186335  -1.2922739  -0.38407907 -0.7413718   2.4256754  -1.7162966\n",
      "  0.2915409   1.6216906  -0.0117111   1.4669673   1.1212769   1.9051769\n",
      "  1.5775081  -1.648015   -0.24097674 -0.22793058  0.79555565  0.6799755\n",
      "  2.0218377   0.36931023 -0.98027986  1.0965798  -2.4978988   0.36518586\n",
      "  0.15155722 -0.18579744 -0.34069097  0.93591374  0.67286265 -0.678152\n",
      " -0.591037   -0.2682684  -2.1170518  -1.1954272  -2.0078096   0.08522321\n",
      "  2.660568    0.963557    0.79190683]\n",
      "F  :  [ 0.53958106 -0.11114538 -0.15657945 -0.19920035 -0.86198574 -1.5864401\n",
      " -1.3118792   1.281103    0.33764237 -0.4841386  -0.8983073   1.8495059\n",
      " -1.1283236  -0.588159   -1.4571115  -0.4082517   0.22391973  0.92380327\n",
      "  0.27050897 -0.21469775  0.12903987 -0.04955897  1.4120172  -0.89577484\n",
      "  0.6021826   0.78493416 -0.02470871  1.9881682  -0.1440961   0.63457453\n",
      "  1.0192533  -0.08782999  1.003551   -1.1594579  -0.4717458  -1.0379332\n",
      " -1.0821551   2.1489623   0.30207026  0.47636643 -1.0182921   0.9178015\n",
      "  0.01700046 -0.6835061  -0.9273736   0.74852186  0.24053499  0.37738213\n",
      "  0.9559239   0.4574889   0.00834653 -0.8586676   0.213429   -0.3949608\n",
      " -2.691901   -0.6515384  -1.1899139  -1.5180954  -2.106388    0.73225003\n",
      " -0.32430658 -0.9286369  -1.9270425   1.2867532   2.1234746  -1.173144\n",
      " -0.8280474   0.15828878 -0.04327349 -0.6840784  -0.16424242 -1.1590217\n",
      "  1.098445    0.35528168 -1.5183177  -0.42295125  0.9655979   0.5629845\n",
      " -1.4253527   0.37246978 -1.0556724 ]\n",
      "O  :  [ 1.6854522   0.48036924 -1.160909    0.20298882 -1.1273181   0.45877314\n",
      " -0.71242005 -0.22679862 -2.5690188  -0.628998   -2.0364144  -0.24440357\n",
      "  1.0276973  -0.81914765 -0.3749965  -0.3870752   0.6613365  -0.69167143\n",
      " -0.7615358  -0.66836023  0.2586312  -2.2416382   0.31089452  0.5695825\n",
      " -0.8201437   0.6678603  -0.83490443 -0.1609048   0.68042785  0.5427812\n",
      "  0.4641373  -0.8364007   0.8392284   1.1808581  -0.7570939   0.8809004\n",
      " -1.5893033   1.246453    0.15062954  0.33128512  1.5122545  -0.03920816\n",
      " -1.5272795   0.17149833 -0.9211508   2.431375   -0.11927474 -0.05640806\n",
      " -0.6643327  -0.40991834  0.4854611   1.0280305   1.6540302  -0.57808787\n",
      " -1.5292751   0.03435183  0.47853762 -2.8364182   0.1499035  -1.3828506\n",
      " -0.95243406  0.56639534  0.35573134 -0.25799224 -0.13170911 -0.2958973\n",
      " -1.9135473   0.09563132  0.97773427 -0.46457735 -0.5616509   1.2422616\n",
      " -0.11320121 -0.6901855   1.3098142   0.96205854  0.69085056 -1.9296175\n",
      "  0.69161135 -0.8496405  -1.3269175 ]\n",
      "N  :  [-1.2029359  -0.8515102  -0.4157847   0.54914665  0.8665251   0.4661414\n",
      "  1.0609194  -0.5189441  -2.521048    0.7929027  -1.4003536   0.9232836\n",
      " -0.27521184 -1.1830742  -0.6812906  -0.8175497   0.39402312  0.8295294\n",
      " -0.14082266  0.30544278  0.07038594  0.12107865 -0.31670442  0.06805645\n",
      "  0.3421389   0.19791062 -0.23113802 -1.325102   -0.57030123  0.5501759\n",
      "  0.20542875 -1.0519912  -0.31072566  1.5669633   1.1121106   0.3161326\n",
      "  0.57718724 -0.00696663  0.0675484  -0.19137207 -1.4799093   0.6876256\n",
      " -0.02620821  1.892453    1.3756801   0.74031526  0.54127544 -0.4017219\n",
      " -0.5506591   0.21387923  1.2100589   0.53978956  0.6180202  -0.1897748\n",
      " -0.0121316   0.40654454 -1.1804956   1.0571929   0.3802511   0.22783911\n",
      "  0.94548833  0.29135764  1.521753   -0.5722182   1.1566821   0.3158733\n",
      " -0.29573062 -0.12057296 -0.16810338  0.08789809  1.374931   -0.6277213\n",
      " -0.5402725  -0.57299215  1.0325756   0.4893809   0.6514997  -0.5263123\n",
      "  1.248411    0.6693421   0.37087035]\n",
      "P  :  [-1.1788793  -0.14957538 -0.42981777 -0.81732184 -0.7262214   0.45085797\n",
      " -1.5343292   0.04682172 -2.2597218  -0.15728985  0.15396656  0.05247823\n",
      "  2.3202498  -1.2948893   0.48435318 -1.1712917   0.6849811   0.38803905\n",
      "  0.41947845 -0.12687624 -0.90233356  0.9860471  -1.0341281   1.23337\n",
      " -0.44453833  1.0835117  -1.6260552   0.5676356  -0.6747336  -1.0158426\n",
      " -0.29045802  1.1976267   1.057864   -0.22819701 -1.1534983  -0.8630039\n",
      " -0.4609565  -0.6528561  -1.3162242   0.44368586  0.35851726  0.57100296\n",
      " -1.8031905   0.08945588  1.2560894  -0.5592533  -0.407988    0.5450597\n",
      "  0.25033647 -0.5212779   0.15558822  0.8082595   0.5287043  -0.45669794\n",
      "  0.08860119  1.3786792  -0.08911847  0.6272279  -0.397647   -2.2199817\n",
      " -0.91252553 -0.2721311  -1.5806936  -0.71573716 -0.9468847   0.5346801\n",
      " -0.57932526  1.9074957   0.17659466  0.321915    0.5181986   0.10831288\n",
      " -0.21217625  0.6146297   1.185319   -0.16002636 -0.5615269   0.2659094\n",
      " -0.6196009   0.30653873 -1.2670623 ]\n",
      "S  :  [ 1.4195411   0.35111603  0.4821561  -1.138678    0.37827125  0.0637075\n",
      " -0.03938701 -2.4687188   1.2134784   0.07963998 -0.3145024   0.0589879\n",
      " -0.91317755 -2.1058784   0.35434628  0.11918505 -0.11482679 -1.1527128\n",
      " -0.74406403 -1.2210691   0.5716843  -0.21534856  0.59688973 -0.41987723\n",
      " -0.92675656 -0.02497598 -0.03903022 -0.7342057  -0.3465835   0.12600924\n",
      "  0.6471474   0.7919517   0.73349065  0.5658343   0.19897845  0.79561484\n",
      " -0.11813772 -0.38632092 -1.1430032   0.8553443   0.59385306 -0.43459994\n",
      " -0.372226    0.24284934 -0.8833981   0.16746198 -1.3268858   0.75781304\n",
      " -0.49990684  0.6512543  -0.40970236 -0.52443993 -1.5340394  -1.4277613\n",
      " -0.25045294  0.12396623  0.1550987   1.2253957   0.16570331 -1.0689625\n",
      " -1.595716    0.0835415  -1.0156401   2.3401883   0.3634007   1.7137398\n",
      "  0.60747975  0.83426434  1.4043708   1.5915478   0.5180065   0.7106401\n",
      "  0.49256632 -0.23827793 -1.7894783   0.21172018 -0.21225785 -0.22003306\n",
      " -1.110659    1.3098513   0.21660475]\n",
      "Br  :  [-1.6166803   0.46996012  0.79673976  0.8855624   0.49858838  0.55669224\n",
      " -1.683463   -0.72944546  1.7033749  -0.25709125 -0.18872413 -0.9284997\n",
      " -0.9612177   1.1113987   0.02597606  2.2845087  -0.44427034 -1.5047923\n",
      "  0.2794263   0.80435485 -0.45879477 -0.08036968  0.1289615  -2.0290966\n",
      "  1.7372262   0.21359274 -0.24728605  1.5644517   1.9141454  -1.5395943\n",
      "  0.17505622  0.55749035 -1.4596702  -0.7956826  -1.0067741  -1.4708338\n",
      "  0.7915779   1.8947483  -1.289695    2.344172    0.0259411   0.42516232\n",
      "  0.60831046  0.15344779 -0.94112873  0.98845667 -0.42834392 -1.3781734\n",
      "  2.1262994  -1.1524477  -0.05049649  0.6611112   0.2576318  -0.38915157\n",
      "  1.5173545   0.32622182 -0.5722523   0.7292941   1.3219838   0.23421146\n",
      " -1.2100737  -0.221285   -0.66015106 -0.44438085 -0.2090379   0.74858874\n",
      "  1.1595302   1.2516129   0.89510226  0.24960972 -0.09232853 -0.24071123\n",
      " -0.05001879 -0.32402936 -1.1089025  -0.64496934  1.7005402  -0.08740757\n",
      "  1.2572963   1.6601956   0.7689826 ]\n"
     ]
    }
   ],
   "source": [
    "for i in range(9):\n",
    "    print label2atom[i], \" : \",\n",
    "    print v[i]"
   ]
  },
  {
   "cell_type": "markdown",
   "metadata": {},
   "source": [
    "# Visualization"
   ]
  },
  {
   "cell_type": "code",
   "execution_count": 68,
   "metadata": {},
   "outputs": [],
   "source": [
    "from sklearn.decomposition import PCA"
   ]
  },
  {
   "cell_type": "code",
   "execution_count": 69,
   "metadata": {},
   "outputs": [],
   "source": [
    "pca = PCA(n_components=3)\n",
    "v_3d = pca.fit_transform(v)"
   ]
  },
  {
   "cell_type": "code",
   "execution_count": 70,
   "metadata": {},
   "outputs": [
    {
     "data": {
      "text/plain": [
       "array([[ 0.441528  ,  8.556913  ,  2.001026  ],\n",
       "       [-3.331392  , -2.8735244 ,  8.277223  ],\n",
       "       [ 8.087277  , -2.7843344 , -0.21877557],\n",
       "       [-0.18156533,  3.791488  , -0.7471194 ],\n",
       "       [-5.849486  , -2.9271717 , -1.3686564 ],\n",
       "       [-1.3968394 , -0.62842566, -1.8197258 ],\n",
       "       [-2.1790166 , -1.4029634 , -5.2868557 ],\n",
       "       [-0.4007664 ,  0.55093586, -1.9734367 ],\n",
       "       [ 4.810259  , -2.2829173 ,  1.1363195 ]], dtype=float32)"
      ]
     },
     "execution_count": 70,
     "metadata": {},
     "output_type": "execute_result"
    }
   ],
   "source": [
    "v_3d"
   ]
  },
  {
   "cell_type": "code",
   "execution_count": 75,
   "metadata": {},
   "outputs": [
    {
     "ename": "ImportError",
     "evalue": "cannot import name cbook",
     "output_type": "error",
     "traceback": [
      "\u001b[0;31m---------------------------------------------------------------------------\u001b[0m",
      "\u001b[0;31mImportError\u001b[0m                               Traceback (most recent call last)",
      "\u001b[0;32m<ipython-input-75-9f4441347d99>\u001b[0m in \u001b[0;36m<module>\u001b[0;34m()\u001b[0m\n\u001b[0;32m----> 1\u001b[0;31m \u001b[0mget_ipython\u001b[0m\u001b[0;34m(\u001b[0m\u001b[0;34m)\u001b[0m\u001b[0;34m.\u001b[0m\u001b[0mmagic\u001b[0m\u001b[0;34m(\u001b[0m\u001b[0;34mu'matplotlib inline'\u001b[0m\u001b[0;34m)\u001b[0m\u001b[0;34m\u001b[0m\u001b[0m\n\u001b[0m\u001b[1;32m      2\u001b[0m \u001b[0;32mimport\u001b[0m \u001b[0mmatplotlib\u001b[0m\u001b[0;34m.\u001b[0m\u001b[0mpyplot\u001b[0m \u001b[0;32mas\u001b[0m \u001b[0mplt\u001b[0m\u001b[0;34m\u001b[0m\u001b[0m\n",
      "\u001b[0;32m/Users/hacertilbec/Library/Python/2.7/lib/python/site-packages/IPython/core/interactiveshell.pyc\u001b[0m in \u001b[0;36mmagic\u001b[0;34m(self, arg_s)\u001b[0m\n\u001b[1;32m   2158\u001b[0m         \u001b[0mmagic_name\u001b[0m\u001b[0;34m,\u001b[0m \u001b[0m_\u001b[0m\u001b[0;34m,\u001b[0m \u001b[0mmagic_arg_s\u001b[0m \u001b[0;34m=\u001b[0m \u001b[0marg_s\u001b[0m\u001b[0;34m.\u001b[0m\u001b[0mpartition\u001b[0m\u001b[0;34m(\u001b[0m\u001b[0;34m' '\u001b[0m\u001b[0;34m)\u001b[0m\u001b[0;34m\u001b[0m\u001b[0m\n\u001b[1;32m   2159\u001b[0m         \u001b[0mmagic_name\u001b[0m \u001b[0;34m=\u001b[0m \u001b[0mmagic_name\u001b[0m\u001b[0;34m.\u001b[0m\u001b[0mlstrip\u001b[0m\u001b[0;34m(\u001b[0m\u001b[0mprefilter\u001b[0m\u001b[0;34m.\u001b[0m\u001b[0mESC_MAGIC\u001b[0m\u001b[0;34m)\u001b[0m\u001b[0;34m\u001b[0m\u001b[0m\n\u001b[0;32m-> 2160\u001b[0;31m         \u001b[0;32mreturn\u001b[0m \u001b[0mself\u001b[0m\u001b[0;34m.\u001b[0m\u001b[0mrun_line_magic\u001b[0m\u001b[0;34m(\u001b[0m\u001b[0mmagic_name\u001b[0m\u001b[0;34m,\u001b[0m \u001b[0mmagic_arg_s\u001b[0m\u001b[0;34m)\u001b[0m\u001b[0;34m\u001b[0m\u001b[0m\n\u001b[0m\u001b[1;32m   2161\u001b[0m \u001b[0;34m\u001b[0m\u001b[0m\n\u001b[1;32m   2162\u001b[0m     \u001b[0;31m#-------------------------------------------------------------------------\u001b[0m\u001b[0;34m\u001b[0m\u001b[0;34m\u001b[0m\u001b[0m\n",
      "\u001b[0;32m/Users/hacertilbec/Library/Python/2.7/lib/python/site-packages/IPython/core/interactiveshell.pyc\u001b[0m in \u001b[0;36mrun_line_magic\u001b[0;34m(self, magic_name, line)\u001b[0m\n\u001b[1;32m   2079\u001b[0m                 \u001b[0mkwargs\u001b[0m\u001b[0;34m[\u001b[0m\u001b[0;34m'local_ns'\u001b[0m\u001b[0;34m]\u001b[0m \u001b[0;34m=\u001b[0m \u001b[0msys\u001b[0m\u001b[0;34m.\u001b[0m\u001b[0m_getframe\u001b[0m\u001b[0;34m(\u001b[0m\u001b[0mstack_depth\u001b[0m\u001b[0;34m)\u001b[0m\u001b[0;34m.\u001b[0m\u001b[0mf_locals\u001b[0m\u001b[0;34m\u001b[0m\u001b[0m\n\u001b[1;32m   2080\u001b[0m             \u001b[0;32mwith\u001b[0m \u001b[0mself\u001b[0m\u001b[0;34m.\u001b[0m\u001b[0mbuiltin_trap\u001b[0m\u001b[0;34m:\u001b[0m\u001b[0;34m\u001b[0m\u001b[0m\n\u001b[0;32m-> 2081\u001b[0;31m                 \u001b[0mresult\u001b[0m \u001b[0;34m=\u001b[0m \u001b[0mfn\u001b[0m\u001b[0;34m(\u001b[0m\u001b[0;34m*\u001b[0m\u001b[0margs\u001b[0m\u001b[0;34m,\u001b[0m\u001b[0;34m**\u001b[0m\u001b[0mkwargs\u001b[0m\u001b[0;34m)\u001b[0m\u001b[0;34m\u001b[0m\u001b[0m\n\u001b[0m\u001b[1;32m   2082\u001b[0m             \u001b[0;32mreturn\u001b[0m \u001b[0mresult\u001b[0m\u001b[0;34m\u001b[0m\u001b[0m\n\u001b[1;32m   2083\u001b[0m \u001b[0;34m\u001b[0m\u001b[0m\n",
      "\u001b[0;32m<decorator-gen-105>\u001b[0m in \u001b[0;36mmatplotlib\u001b[0;34m(self, line)\u001b[0m\n",
      "\u001b[0;32m/Users/hacertilbec/Library/Python/2.7/lib/python/site-packages/IPython/core/magic.pyc\u001b[0m in \u001b[0;36m<lambda>\u001b[0;34m(f, *a, **k)\u001b[0m\n\u001b[1;32m    186\u001b[0m     \u001b[0;31m# but it's overkill for just that one bit of state.\u001b[0m\u001b[0;34m\u001b[0m\u001b[0;34m\u001b[0m\u001b[0m\n\u001b[1;32m    187\u001b[0m     \u001b[0;32mdef\u001b[0m \u001b[0mmagic_deco\u001b[0m\u001b[0;34m(\u001b[0m\u001b[0marg\u001b[0m\u001b[0;34m)\u001b[0m\u001b[0;34m:\u001b[0m\u001b[0;34m\u001b[0m\u001b[0m\n\u001b[0;32m--> 188\u001b[0;31m         \u001b[0mcall\u001b[0m \u001b[0;34m=\u001b[0m \u001b[0;32mlambda\u001b[0m \u001b[0mf\u001b[0m\u001b[0;34m,\u001b[0m \u001b[0;34m*\u001b[0m\u001b[0ma\u001b[0m\u001b[0;34m,\u001b[0m \u001b[0;34m**\u001b[0m\u001b[0mk\u001b[0m\u001b[0;34m:\u001b[0m \u001b[0mf\u001b[0m\u001b[0;34m(\u001b[0m\u001b[0;34m*\u001b[0m\u001b[0ma\u001b[0m\u001b[0;34m,\u001b[0m \u001b[0;34m**\u001b[0m\u001b[0mk\u001b[0m\u001b[0;34m)\u001b[0m\u001b[0;34m\u001b[0m\u001b[0m\n\u001b[0m\u001b[1;32m    189\u001b[0m \u001b[0;34m\u001b[0m\u001b[0m\n\u001b[1;32m    190\u001b[0m         \u001b[0;32mif\u001b[0m \u001b[0mcallable\u001b[0m\u001b[0;34m(\u001b[0m\u001b[0marg\u001b[0m\u001b[0;34m)\u001b[0m\u001b[0;34m:\u001b[0m\u001b[0;34m\u001b[0m\u001b[0m\n",
      "\u001b[0;32m/Users/hacertilbec/Library/Python/2.7/lib/python/site-packages/IPython/core/magics/pylab.pyc\u001b[0m in \u001b[0;36mmatplotlib\u001b[0;34m(self, line)\u001b[0m\n\u001b[1;32m     98\u001b[0m             \u001b[0;32mprint\u001b[0m\u001b[0;34m(\u001b[0m\u001b[0;34m\"Available matplotlib backends: %s\"\u001b[0m \u001b[0;34m%\u001b[0m \u001b[0mbackends_list\u001b[0m\u001b[0;34m)\u001b[0m\u001b[0;34m\u001b[0m\u001b[0m\n\u001b[1;32m     99\u001b[0m         \u001b[0;32melse\u001b[0m\u001b[0;34m:\u001b[0m\u001b[0;34m\u001b[0m\u001b[0m\n\u001b[0;32m--> 100\u001b[0;31m             \u001b[0mgui\u001b[0m\u001b[0;34m,\u001b[0m \u001b[0mbackend\u001b[0m \u001b[0;34m=\u001b[0m \u001b[0mself\u001b[0m\u001b[0;34m.\u001b[0m\u001b[0mshell\u001b[0m\u001b[0;34m.\u001b[0m\u001b[0menable_matplotlib\u001b[0m\u001b[0;34m(\u001b[0m\u001b[0margs\u001b[0m\u001b[0;34m.\u001b[0m\u001b[0mgui\u001b[0m\u001b[0;34m)\u001b[0m\u001b[0;34m\u001b[0m\u001b[0m\n\u001b[0m\u001b[1;32m    101\u001b[0m             \u001b[0mself\u001b[0m\u001b[0;34m.\u001b[0m\u001b[0m_show_matplotlib_backend\u001b[0m\u001b[0;34m(\u001b[0m\u001b[0margs\u001b[0m\u001b[0;34m.\u001b[0m\u001b[0mgui\u001b[0m\u001b[0;34m,\u001b[0m \u001b[0mbackend\u001b[0m\u001b[0;34m)\u001b[0m\u001b[0;34m\u001b[0m\u001b[0m\n\u001b[1;32m    102\u001b[0m \u001b[0;34m\u001b[0m\u001b[0m\n",
      "\u001b[0;32m/Users/hacertilbec/Library/Python/2.7/lib/python/site-packages/IPython/core/interactiveshell.pyc\u001b[0m in \u001b[0;36menable_matplotlib\u001b[0;34m(self, gui)\u001b[0m\n\u001b[1;32m   2952\u001b[0m         \"\"\"\n\u001b[1;32m   2953\u001b[0m         \u001b[0;32mfrom\u001b[0m \u001b[0mIPython\u001b[0m\u001b[0;34m.\u001b[0m\u001b[0mcore\u001b[0m \u001b[0;32mimport\u001b[0m \u001b[0mpylabtools\u001b[0m \u001b[0;32mas\u001b[0m \u001b[0mpt\u001b[0m\u001b[0;34m\u001b[0m\u001b[0m\n\u001b[0;32m-> 2954\u001b[0;31m         \u001b[0mgui\u001b[0m\u001b[0;34m,\u001b[0m \u001b[0mbackend\u001b[0m \u001b[0;34m=\u001b[0m \u001b[0mpt\u001b[0m\u001b[0;34m.\u001b[0m\u001b[0mfind_gui_and_backend\u001b[0m\u001b[0;34m(\u001b[0m\u001b[0mgui\u001b[0m\u001b[0;34m,\u001b[0m \u001b[0mself\u001b[0m\u001b[0;34m.\u001b[0m\u001b[0mpylab_gui_select\u001b[0m\u001b[0;34m)\u001b[0m\u001b[0;34m\u001b[0m\u001b[0m\n\u001b[0m\u001b[1;32m   2955\u001b[0m \u001b[0;34m\u001b[0m\u001b[0m\n\u001b[1;32m   2956\u001b[0m         \u001b[0;32mif\u001b[0m \u001b[0mgui\u001b[0m \u001b[0;34m!=\u001b[0m \u001b[0;34m'inline'\u001b[0m\u001b[0;34m:\u001b[0m\u001b[0;34m\u001b[0m\u001b[0m\n",
      "\u001b[0;32m/Users/hacertilbec/Library/Python/2.7/lib/python/site-packages/IPython/core/pylabtools.pyc\u001b[0m in \u001b[0;36mfind_gui_and_backend\u001b[0;34m(gui, gui_select)\u001b[0m\n\u001b[1;32m    277\u001b[0m     \"\"\"\n\u001b[1;32m    278\u001b[0m \u001b[0;34m\u001b[0m\u001b[0m\n\u001b[0;32m--> 279\u001b[0;31m     \u001b[0;32mimport\u001b[0m \u001b[0mmatplotlib\u001b[0m\u001b[0;34m\u001b[0m\u001b[0m\n\u001b[0m\u001b[1;32m    280\u001b[0m \u001b[0;34m\u001b[0m\u001b[0m\n\u001b[1;32m    281\u001b[0m     \u001b[0;32mif\u001b[0m \u001b[0mgui\u001b[0m \u001b[0;32mand\u001b[0m \u001b[0mgui\u001b[0m \u001b[0;34m!=\u001b[0m \u001b[0;34m'auto'\u001b[0m\u001b[0;34m:\u001b[0m\u001b[0;34m\u001b[0m\u001b[0m\n",
      "\u001b[0;32m/usr/local/lib/python2.7/site-packages/matplotlib/__init__.py\u001b[0m in \u001b[0;36m<module>\u001b[0;34m()\u001b[0m\n\u001b[1;32m    125\u001b[0m \u001b[0;31m# cbook must import matplotlib only within function\u001b[0m\u001b[0;34m\u001b[0m\u001b[0;34m\u001b[0m\u001b[0m\n\u001b[1;32m    126\u001b[0m \u001b[0;31m# definitions, so it is safe to import from it here.\u001b[0m\u001b[0;34m\u001b[0m\u001b[0;34m\u001b[0m\u001b[0m\n\u001b[0;32m--> 127\u001b[0;31m \u001b[0;32mfrom\u001b[0m \u001b[0;34m.\u001b[0m \u001b[0;32mimport\u001b[0m \u001b[0mcbook\u001b[0m\u001b[0;34m\u001b[0m\u001b[0m\n\u001b[0m\u001b[1;32m    128\u001b[0m from matplotlib.cbook import (\n\u001b[1;32m    129\u001b[0m     _backports, mplDeprecation, dedent, get_label, sanitize_sequence)\n",
      "\u001b[0;31mImportError\u001b[0m: cannot import name cbook"
     ]
    }
   ],
   "source": [
    "%matplotlib inline\n",
    "import matplotlib.pyplot as plt"
   ]
  },
  {
   "cell_type": "code",
   "execution_count": 72,
   "metadata": {},
   "outputs": [
    {
     "ename": "ImportError",
     "evalue": "cannot import name cbook",
     "output_type": "error",
     "traceback": [
      "\u001b[0;31m---------------------------------------------------------------------------\u001b[0m",
      "\u001b[0;31mImportError\u001b[0m                               Traceback (most recent call last)",
      "\u001b[0;32m<ipython-input-72-78d3212ade17>\u001b[0m in \u001b[0;36m<module>\u001b[0;34m()\u001b[0m\n\u001b[0;32m----> 1\u001b[0;31m \u001b[0;32mimport\u001b[0m \u001b[0mmatplotlib\u001b[0m\u001b[0;34m.\u001b[0m\u001b[0mpyplot\u001b[0m \u001b[0;32mas\u001b[0m \u001b[0mplt\u001b[0m\u001b[0;34m\u001b[0m\u001b[0m\n\u001b[0m\u001b[1;32m      2\u001b[0m \u001b[0;34m\u001b[0m\u001b[0m\n\u001b[1;32m      3\u001b[0m \u001b[0;34m\u001b[0m\u001b[0m\n\u001b[1;32m      4\u001b[0m \u001b[0mx1\u001b[0m \u001b[0;34m=\u001b[0m \u001b[0mnp\u001b[0m\u001b[0;34m.\u001b[0m\u001b[0mlinspace\u001b[0m\u001b[0;34m(\u001b[0m\u001b[0;36m0.0\u001b[0m\u001b[0;34m,\u001b[0m \u001b[0;36m5.0\u001b[0m\u001b[0;34m)\u001b[0m\u001b[0;34m\u001b[0m\u001b[0m\n\u001b[1;32m      5\u001b[0m \u001b[0mx2\u001b[0m \u001b[0;34m=\u001b[0m \u001b[0mnp\u001b[0m\u001b[0;34m.\u001b[0m\u001b[0mlinspace\u001b[0m\u001b[0;34m(\u001b[0m\u001b[0;36m0.0\u001b[0m\u001b[0;34m,\u001b[0m \u001b[0;36m2.0\u001b[0m\u001b[0;34m)\u001b[0m\u001b[0;34m\u001b[0m\u001b[0m\n",
      "\u001b[0;32m/usr/local/lib/python2.7/site-packages/matplotlib/__init__.py\u001b[0m in \u001b[0;36m<module>\u001b[0;34m()\u001b[0m\n\u001b[1;32m    125\u001b[0m \u001b[0;31m# cbook must import matplotlib only within function\u001b[0m\u001b[0;34m\u001b[0m\u001b[0;34m\u001b[0m\u001b[0m\n\u001b[1;32m    126\u001b[0m \u001b[0;31m# definitions, so it is safe to import from it here.\u001b[0m\u001b[0;34m\u001b[0m\u001b[0;34m\u001b[0m\u001b[0m\n\u001b[0;32m--> 127\u001b[0;31m \u001b[0;32mfrom\u001b[0m \u001b[0;34m.\u001b[0m \u001b[0;32mimport\u001b[0m \u001b[0mcbook\u001b[0m\u001b[0;34m\u001b[0m\u001b[0m\n\u001b[0m\u001b[1;32m    128\u001b[0m from matplotlib.cbook import (\n\u001b[1;32m    129\u001b[0m     _backports, mplDeprecation, dedent, get_label, sanitize_sequence)\n",
      "\u001b[0;31mImportError\u001b[0m: cannot import name cbook"
     ]
    }
   ],
   "source": [
    "import matplotlib.pyplot as plt\n",
    "\n",
    "\n",
    "x1 = np.linspace(0.0, 5.0)\n",
    "x2 = np.linspace(0.0, 2.0)\n",
    "\n",
    "y1 = np.cos(2 * np.pi * x1) * np.exp(-x1)\n",
    "y2 = np.cos(2 * np.pi * x2)\n",
    "\n",
    "plt.subplot(2, 1, 1)\n",
    "plt.plot(x1, y1, 'o-')\n",
    "plt.title('A tale of 2 subplots')\n",
    "plt.ylabel('Damped oscillation')\n",
    "\n",
    "plt.subplot(2, 1, 2)\n",
    "plt.plot(x2, y2, '.-')\n",
    "plt.xlabel('time (s)')\n",
    "plt.ylabel('Undamped')\n",
    "\n",
    "plt.show()"
   ]
  },
  {
   "cell_type": "markdown",
   "metadata": {},
   "source": [
    "## Protein Classification"
   ]
  },
  {
   "cell_type": "code",
   "execution_count": 52,
   "metadata": {},
   "outputs": [],
   "source": [
    "# kendi oluşturduğumuz atom vektörleriyle proteinler represent edilecek\n",
    "# proteinler sınıflandırılacak, accuracy ölçülecek\n",
    "# toxicity, solubility dataları kullanılabilir"
   ]
  },
  {
   "cell_type": "markdown",
   "metadata": {},
   "source": [
    "## Vectorize Substructures"
   ]
  },
  {
   "cell_type": "code",
   "execution_count": 51,
   "metadata": {},
   "outputs": [],
   "source": [
    "# Atomlara yaptığımız gibi substructure'ları vektörleştirebiliriz"
   ]
  },
  {
   "cell_type": "code",
   "execution_count": null,
   "metadata": {},
   "outputs": [],
   "source": []
  }
 ],
 "metadata": {
  "kernelspec": {
   "display_name": "Python 2",
   "language": "python",
   "name": "python2"
  },
  "language_info": {
   "codemirror_mode": {
    "name": "ipython",
    "version": 2
   },
   "file_extension": ".py",
   "mimetype": "text/x-python",
   "name": "python",
   "nbconvert_exporter": "python",
   "pygments_lexer": "ipython2",
   "version": "2.7.15"
  }
 },
 "nbformat": 4,
 "nbformat_minor": 2
}
