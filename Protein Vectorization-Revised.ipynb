{
 "cells": [
  {
   "cell_type": "code",
   "execution_count": 7,
   "metadata": {},
   "outputs": [],
   "source": [
    "from Bio import PDB\n",
    "from Bio.PDB.Polypeptide import PPBuilder\n",
    "from Bio.SeqUtils.ProtParam import ProteinAnalysis\n",
    "import numpy as np\n",
    "import os\n",
    "from PIL import Image\n",
    "from sklearn.decomposition import PCA\n",
    "\n",
    "import tensorflow as tf\n",
    "from tensorflow.contrib.layers import fully_connected"
   ]
  },
  {
   "cell_type": "code",
   "execution_count": 2,
   "metadata": {},
   "outputs": [
    {
     "name": "stderr",
     "output_type": "stream",
     "text": [
      "UsageError: Line magic function `%matplot` not found.\n"
     ]
    }
   ],
   "source": [
    "import numpy as np\n",
    "import matplotlib\n",
    "import matplotlib.pyplot as plt\n",
    "%matplot inline"
   ]
  },
  {
   "cell_type": "code",
   "execution_count": 3,
   "metadata": {},
   "outputs": [],
   "source": [
    "# Get and parse all pdb files in a folder\n",
    "\n",
    "def parsePdbFiles(dir_path):\n",
    "    structures = []\n",
    "    \n",
    "    files = os.listdir(dir_path)\n",
    "    pdb_files = [(f, os.path.join(dir_path, f)) for f in files if f.endswith(\".pdb\")]\n",
    "    \n",
    "    for pdb, pdb_path in pdb_files:\n",
    "        parser = PDB.PDBParser()\n",
    "        structure = parser.get_structure(pdb, pdb_path) \n",
    "        structures.append(structure)\n",
    "        \n",
    "    return structures"
   ]
  },
  {
   "cell_type": "code",
   "execution_count": 4,
   "metadata": {},
   "outputs": [
    {
     "name": "stderr",
     "output_type": "stream",
     "text": [
      "/usr/local/lib/python2.7/site-packages/Bio/PDB/StructureBuilder.py:90: PDBConstructionWarning: WARNING: Chain C is discontinuous at line 5492.\n",
      "  PDBConstructionWarning)\n",
      "/usr/local/lib/python2.7/site-packages/Bio/PDB/StructureBuilder.py:90: PDBConstructionWarning: WARNING: Chain D is discontinuous at line 5524.\n",
      "  PDBConstructionWarning)\n",
      "/usr/local/lib/python2.7/site-packages/Bio/PDB/StructureBuilder.py:90: PDBConstructionWarning: WARNING: Chain A is discontinuous at line 5565.\n",
      "  PDBConstructionWarning)\n",
      "/usr/local/lib/python2.7/site-packages/Bio/PDB/StructureBuilder.py:90: PDBConstructionWarning: WARNING: Chain B is discontinuous at line 5942.\n",
      "  PDBConstructionWarning)\n",
      "/usr/local/lib/python2.7/site-packages/Bio/PDB/StructureBuilder.py:90: PDBConstructionWarning: WARNING: Chain A is discontinuous at line 4894.\n",
      "  PDBConstructionWarning)\n",
      "/usr/local/lib/python2.7/site-packages/Bio/PDB/StructureBuilder.py:90: PDBConstructionWarning: WARNING: Chain B is discontinuous at line 4943.\n",
      "  PDBConstructionWarning)\n",
      "/usr/local/lib/python2.7/site-packages/Bio/PDB/StructureBuilder.py:90: PDBConstructionWarning: WARNING: Chain A is discontinuous at line 4992.\n",
      "  PDBConstructionWarning)\n",
      "/usr/local/lib/python2.7/site-packages/Bio/PDB/StructureBuilder.py:90: PDBConstructionWarning: WARNING: Chain B is discontinuous at line 5037.\n",
      "  PDBConstructionWarning)\n",
      "/usr/local/lib/python2.7/site-packages/Bio/PDB/StructureBuilder.py:90: PDBConstructionWarning: WARNING: Chain A is discontinuous at line 4375.\n",
      "  PDBConstructionWarning)\n",
      "/usr/local/lib/python2.7/site-packages/Bio/PDB/StructureBuilder.py:90: PDBConstructionWarning: WARNING: Chain B is discontinuous at line 4395.\n",
      "  PDBConstructionWarning)\n",
      "/usr/local/lib/python2.7/site-packages/Bio/PDB/StructureBuilder.py:90: PDBConstructionWarning: WARNING: Chain N is discontinuous at line 4413.\n",
      "  PDBConstructionWarning)\n",
      "/usr/local/lib/python2.7/site-packages/Bio/PDB/StructureBuilder.py:90: PDBConstructionWarning: WARNING: Chain F is discontinuous at line 4459.\n",
      "  PDBConstructionWarning)\n",
      "/usr/local/lib/python2.7/site-packages/Bio/PDB/StructureBuilder.py:90: PDBConstructionWarning: WARNING: Chain J is discontinuous at line 4462.\n",
      "  PDBConstructionWarning)\n"
     ]
    },
    {
     "name": "stdout",
     "output_type": "stream",
     "text": [
      "[<Structure id=1gji.pdb>, <Structure id=1a3q.pdb>, <Structure id=1nvt.pdb>, <Structure id=1a02.pdb>, <Structure id=1fy7.pdb>, <Structure id=1a4i.pdb>, <Structure id=1imh.pdb>]\n"
     ]
    },
    {
     "name": "stderr",
     "output_type": "stream",
     "text": [
      "/usr/local/lib/python2.7/site-packages/Bio/PDB/StructureBuilder.py:90: PDBConstructionWarning: WARNING: Chain A is discontinuous at line 4909.\n",
      "  PDBConstructionWarning)\n",
      "/usr/local/lib/python2.7/site-packages/Bio/PDB/StructureBuilder.py:90: PDBConstructionWarning: WARNING: Chain B is discontinuous at line 4957.\n",
      "  PDBConstructionWarning)\n",
      "/usr/local/lib/python2.7/site-packages/Bio/PDB/StructureBuilder.py:90: PDBConstructionWarning: WARNING: Chain A is discontinuous at line 5005.\n",
      "  PDBConstructionWarning)\n",
      "/usr/local/lib/python2.7/site-packages/Bio/PDB/StructureBuilder.py:90: PDBConstructionWarning: WARNING: Chain B is discontinuous at line 5184.\n",
      "  PDBConstructionWarning)\n"
     ]
    }
   ],
   "source": [
    "structures = parsePdbFiles(\"pdb_sample/sample\")\n",
    "print structures"
   ]
  },
  {
   "cell_type": "code",
   "execution_count": 5,
   "metadata": {},
   "outputs": [],
   "source": [
    "def AminoacidPairDistanceMatrix(structure):\n",
    "    aa_vectors = {} # aminoacid vector dictionary {aa_id: aa_carbon_coordinate} \n",
    "\n",
    "    aa_id = 0 # aminoacid id\n",
    "    for model in structure:\n",
    "        for chain in model:\n",
    "            if chain.id == protein_chain_dict[str(structure.id)]:\n",
    "                for residue in chain:\n",
    "                    if aa_id<273: # Remove aminoacids after limit\n",
    "                        try:\n",
    "                            coords_CA = residue['CA'].coord # x,y,z coordinates of the C-alpha atom\n",
    "                            aa_vectors[aa_id] = coords_CA\n",
    "                        except:\n",
    "                            aa_id += 1\n",
    "                            continue\n",
    "                        aa_id += 1\n",
    "                    else:\n",
    "                        break\n",
    "\n",
    "    aa_distance_matrix = [] # Aminoacid pair distance matrix\n",
    "    for vec in aa_vectors.values():\n",
    "        dist_vec = []\n",
    "        for vec_ in aa_vectors.values():\n",
    "            distance = np.linalg.norm(vec-vec_)\n",
    "            dist_vec.append(distance)\n",
    "        aa_distance_matrix.append(dist_vec)\n",
    "        \n",
    "    return np.array(aa_distance_matrix)"
   ]
  },
  {
   "cell_type": "code",
   "execution_count": 25,
   "metadata": {},
   "outputs": [],
   "source": [
    "protein_chain_dict = {\"1m4d.pdb\": \"B\", \"1n71.pdb\":\"B\", \"1q2y.pdb\":\"A\", \"1a02.pdb\":\"N\",\"1a3q.pdb\":\"B\", \n",
    "                      \"1gji.pdb\": \"B\", \"1a4i.pdb\":\"A\", \"1b0a.pdb\": \"A\", \"1ee9.pdb\": \"A\",\n",
    "                     \"1bo4.pdb\": \"B\", \"1cjw.pdb\": \"A\", \"1fy7.pdb\": \"A\",\n",
    "                     \"1gpj.pdb\": \"A\", \"1gq2.pdb\": \"A\", \"1nvt.pdb\": \"B\",\n",
    "                     \"1oy3.pdb\": \"B\", \"1ttu.pdb\": \"A\", \"1imh.pdb\": \"D\"}"
   ]
  },
  {
   "cell_type": "code",
   "execution_count": 26,
   "metadata": {},
   "outputs": [],
   "source": [
    "def RemoveSymmetry(matrix):\n",
    "    flatten = []\n",
    "    row = 0\n",
    "    for i in range(1, len(matrix)):\n",
    "        flatten += matrix[row][i:].tolist()\n",
    "        row+=1\n",
    "    return np.array(flatten)"
   ]
  },
  {
   "cell_type": "code",
   "execution_count": 27,
   "metadata": {},
   "outputs": [],
   "source": [
    "def protein_vector_dict(structures, removeSymmetry=True):\n",
    "    protein_matrix_dict = {}\n",
    "    for protein in structures:\n",
    "        protein_matrix = AminoacidPairDistanceMatrix(protein)\n",
    "        if removeSymmetry == True:\n",
    "            protein_matrix = RemoveSymmetry(protein_matrix)\n",
    "        else:\n",
    "            protein_matrix = protein_matrix.flatten()\n",
    "        protein_matrix_dict[protein.id] = protein_matrix\n",
    "        print(protein.id, protein_matrix.shape)\n",
    "    return protein_matrix_dict"
   ]
  },
  {
   "cell_type": "markdown",
   "metadata": {},
   "source": [
    "## Visualization "
   ]
  },
  {
   "cell_type": "code",
   "execution_count": 61,
   "metadata": {},
   "outputs": [
    {
     "data": {
      "text/plain": [
       "'1gji.pdb'"
      ]
     },
     "execution_count": 61,
     "metadata": {},
     "output_type": "execute_result"
    }
   ],
   "source": [
    "structures[0].id"
   ]
  },
  {
   "cell_type": "code",
   "execution_count": 24,
   "metadata": {},
   "outputs": [],
   "source": [
    "protein_matrix = AminoacidPairDistanceMatrix(structures[0])\n",
    "img = Image.fromarray(protein_matrix)\n",
    "img.show()"
   ]
  },
  {
   "cell_type": "code",
   "execution_count": 21,
   "metadata": {},
   "outputs": [],
   "source": [
    "flatten = []\n",
    "row = 0\n",
    "for i in range(1, len(protein_matrix)):\n",
    "    rest = [0] * i\n",
    "    flatten.append(rest + protein_matrix[row][i:].tolist())\n",
    "    row+=1"
   ]
  },
  {
   "cell_type": "code",
   "execution_count": 23,
   "metadata": {},
   "outputs": [],
   "source": [
    "img = Image.fromarray(np.array(flatten))\n",
    "img.show()"
   ]
  },
  {
   "cell_type": "markdown",
   "metadata": {},
   "source": [
    "#  ----"
   ]
  },
  {
   "cell_type": "code",
   "execution_count": 28,
   "metadata": {},
   "outputs": [
    {
     "name": "stdout",
     "output_type": "stream",
     "text": [
      "('1gji.pdb', (37128,))\n",
      "('1a3q.pdb', (37128,))\n",
      "('1nvt.pdb', (37128,))\n",
      "('1a02.pdb', (37128,))\n",
      "('1fy7.pdb', (37128,))\n",
      "('1a4i.pdb', (37128,))\n",
      "('1imh.pdb', (37128,))\n"
     ]
    }
   ],
   "source": [
    "protein_matrix_dict = protein_vector_dict(structures, removeSymmetry=True)"
   ]
  },
  {
   "cell_type": "code",
   "execution_count": 13,
   "metadata": {},
   "outputs": [
    {
     "name": "stdout",
     "output_type": "stream",
     "text": [
      "('1gji.pdb', (74529,))\n",
      "('1a3q.pdb', (74529,))\n",
      "('1nvt.pdb', (74529,))\n",
      "('1a02.pdb', (74529,))\n",
      "('1fy7.pdb', (74529,))\n",
      "('1a4i.pdb', (74529,))\n",
      "('1imh.pdb', (74529,))\n"
     ]
    }
   ],
   "source": [
    "protein_matrix_dict2 = protein_vector_dict(structures, removeSymmetry=False)"
   ]
  },
  {
   "cell_type": "code",
   "execution_count": 62,
   "metadata": {},
   "outputs": [
    {
     "data": {
      "text/plain": [
       "['1a4i.pdb',\n",
       " '1imh.pdb',\n",
       " '1a3q.pdb',\n",
       " '1nvt.pdb',\n",
       " '1gji.pdb',\n",
       " '1a02.pdb',\n",
       " '1fy7.pdb']"
      ]
     },
     "execution_count": 62,
     "metadata": {},
     "output_type": "execute_result"
    }
   ],
   "source": [
    "protein_matrix_dict.keys()"
   ]
  },
  {
   "cell_type": "code",
   "execution_count": 29,
   "metadata": {},
   "outputs": [],
   "source": [
    "def LinearAutoencoder(X_train, n_input, n_hidden, n_iteration):\n",
    "    n_inputs = n_input # input is flatten version of 129x129 matrix\n",
    "    n_hidden = n_hidden # hidden layer with 100 neurons\n",
    "    n_outputs = n_inputs\n",
    "\n",
    "    learning_rate = 0.01\n",
    "\n",
    "    X = tf.placeholder(tf.float32, shape=[None, n_inputs])\n",
    "    hidden = fully_connected(X, n_hidden, activation_fn=None)\n",
    "    outputs = fully_connected(hidden, n_outputs, activation_fn=None)\n",
    "\n",
    "    reconstruction_loss = tf.reduce_sum(tf.square(outputs - X)) # MSE\n",
    "\n",
    "    optimizer = tf.train.AdamOptimizer(learning_rate)\n",
    "    training_op = optimizer.minimize(reconstruction_loss)\n",
    "\n",
    "    init = tf.global_variables_initializer()\n",
    "\n",
    "    n_iterations = n_iteration # Number of iterations\n",
    "    codings = hidden # the output of the hidden layer provides the codings\n",
    "    \n",
    "    with tf.Session() as sess: \n",
    "        init.run()\n",
    "        loss = []\n",
    "        for iteration in range(n_iterations):\n",
    "            iteration_loss = []\n",
    "            for protein in X_train:\n",
    "                _, loss_val = sess.run([training_op, reconstruction_loss], feed_dict={X: [protein]}) # no labels (unsupervised)\n",
    "                iteration_loss.append(loss_val)\n",
    "            loss.append(sum(iteration_loss)/float(len(X_train)))\n",
    "            \n",
    "        # Test on the same protein\n",
    "        codings_val = codings.eval(feed_dict={X: X_train})\n",
    "        \n",
    "    return codings_val, loss"
   ]
  },
  {
   "cell_type": "code",
   "execution_count": 19,
   "metadata": {},
   "outputs": [],
   "source": [
    "def StackedAutoencoderWithTiedWeights(X_train, n_input, n_hidden1, n_hidden2, n_epochs):\n",
    "    n_inputs = n_input # for pair distance matrix \n",
    "    n_hidden1 = n_hidden1\n",
    "    n_hidden2 = n_hidden2 # codings \n",
    "    n_hidden3 = n_hidden1 \n",
    "    n_outputs = n_inputs\n",
    "\n",
    "    learning_rate = 0.01\n",
    "    l2_reg = 0.001\n",
    "\n",
    "    activation = tf.nn.elu\n",
    "    regularizer = tf.contrib.layers.l2_regularizer(l2_reg)\n",
    "    initializer = tf.contrib.layers.variance_scaling_initializer()\n",
    "\n",
    "    X = tf.placeholder(tf.float32, shape=[None, n_inputs])\n",
    "\n",
    "    weights1_init = initializer([n_inputs, n_hidden1])\n",
    "    weights2_init = initializer([n_hidden1, n_hidden2])\n",
    "\n",
    "    weights1 = tf.Variable(weights1_init, dtype=tf.float32, name=\"weights1\") \n",
    "    weights2 = tf.Variable(weights2_init, dtype=tf.float32, name=\"weights2\") \n",
    "    weights3 = tf.transpose(weights2, name=\"weights3\") # tied weights\n",
    "    weights4 = tf.transpose(weights1, name=\"weights4\") # tied weights\n",
    "\n",
    "    biases1 = tf.Variable(tf.zeros(n_hidden1), name=\"biases1\")\n",
    "    biases2 = tf.Variable(tf.zeros(n_hidden2), name=\"biases2\")\n",
    "    biases3 = tf.Variable(tf.zeros(n_hidden3), name=\"biases3\")\n",
    "    biases4 = tf.Variable(tf.zeros(n_outputs), name=\"biases4\")\n",
    "\n",
    "    hidden1 = activation(tf.matmul(X, weights1) + biases1)\n",
    "    hidden2 = activation(tf.matmul(hidden1, weights2) + biases2)\n",
    "    hidden3 = activation(tf.matmul(hidden2, weights3) + biases3)\n",
    "    outputs = tf.matmul(hidden3, weights4) + biases4\n",
    "\n",
    "    reconstruction_loss = tf.reduce_mean(tf.square(outputs - X))\n",
    "    reg_loss = regularizer(weights1) + regularizer(weights2)\n",
    "\n",
    "    loss = reconstruction_loss + reg_loss\n",
    "\n",
    "    optimizer = tf.train.AdamOptimizer(learning_rate)\n",
    "    training_op = optimizer.minimize(loss)\n",
    "    n_epochs = n_epochs\n",
    "\n",
    "    init = tf.global_variables_initializer()\n",
    "    \n",
    "    with tf.Session() as sess: \n",
    "        init.run() \n",
    "        loss_control = []\n",
    "        for epoch in range(n_epochs):\n",
    "            print(\"Iteration \",epoch)\n",
    "            iteration_loss = []\n",
    "            for protein in X_train:\n",
    "                _, loss_val = sess.run([training_op, loss], feed_dict={X: [protein]})\n",
    "                iteration_loss.append(loss_val)\n",
    "            loss_control.append(sum(iteration_loss)/float(len(X_train)))\n",
    "        # Test on the same protein\n",
    "        codings_val = hidden2.eval(feed_dict={X: X_train})\n",
    "        \n",
    "    return codings_val, loss_control"
   ]
  },
  {
   "cell_type": "code",
   "execution_count": 30,
   "metadata": {},
   "outputs": [],
   "source": [
    "labels, features = protein_matrix_dict.keys(), protein_matrix_dict.values()"
   ]
  },
  {
   "cell_type": "markdown",
   "metadata": {},
   "source": [
    "## Linear Autoencoder"
   ]
  },
  {
   "cell_type": "code",
   "execution_count": 42,
   "metadata": {},
   "outputs": [
    {
     "data": {
      "text/plain": [
       "528"
      ]
     },
     "execution_count": 42,
     "metadata": {},
     "output_type": "execute_result"
    }
   ],
   "source": [
    "(33*33)/2 - 33/2"
   ]
  },
  {
   "cell_type": "code",
   "execution_count": 43,
   "metadata": {},
   "outputs": [],
   "source": [
    "input_size = len(features[0])\n",
    "features500d, loss = LinearAutoencoder(features, input_size, 528, 10)"
   ]
  },
  {
   "cell_type": "code",
   "execution_count": 45,
   "metadata": {
    "scrolled": true
   },
   "outputs": [
    {
     "data": {
      "text/plain": [
       "[<matplotlib.lines.Line2D at 0x1050e4d50>]"
      ]
     },
     "execution_count": 45,
     "metadata": {},
     "output_type": "execute_result"
    },
    {
     "data": {
      "image/png": "[encoded data removed]",
      "text/plain": [
       "<Figure size 432x288 with 1 Axes>"
      ]
     },
     "metadata": {},
     "output_type": "display_data"
    }
   ],
   "source": [
    "# LOSS GRAPH\n",
    "fig, ax = plt.subplots()\n",
    "ax.plot(range(0,len(loss)), loss, 'go-', linewidth=1, markersize=1)"
   ]
  },
  {
   "cell_type": "code",
   "execution_count": 64,
   "metadata": {},
   "outputs": [
    {
     "name": "stdout",
     "output_type": "stream",
     "text": [
      "1gji.pdb\n"
     ]
    }
   ],
   "source": [
    "print labels[4]"
   ]
  },
  {
   "cell_type": "code",
   "execution_count": 85,
   "metadata": {},
   "outputs": [
    {
     "name": "stdout",
     "output_type": "stream",
     "text": [
      "33\n",
      "32\n",
      "31\n",
      "30\n",
      "29\n",
      "28\n",
      "27\n",
      "26\n",
      "25\n",
      "24\n",
      "23\n",
      "22\n",
      "21\n",
      "20\n",
      "19\n",
      "18\n",
      "17\n",
      "16\n",
      "15\n",
      "14\n",
      "13\n",
      "12\n",
      "11\n",
      "10\n",
      "9\n",
      "3\n",
      "0\n",
      "0\n",
      "0\n",
      "0\n",
      "0\n",
      "0\n",
      "0\n"
     ]
    }
   ],
   "source": [
    "new = []\n",
    "protein_f = features500d[4].tolist()\n",
    "start = 0\n",
    "end = 33\n",
    "for i in range(0, 33):\n",
    "    print len(protein_f[start:end])\n",
    "    rest = [0] * (i+1)\n",
    "    new.append(rest + protein_f[start:end])\n",
    "    start = end\n",
    "    end = end + 33 - (i+1)"
   ]
  },
  {
   "cell_type": "code",
   "execution_count": 83,
   "metadata": {},
   "outputs": [
    {
     "data": {
      "text/plain": [
       "30"
      ]
     },
     "execution_count": 83,
     "metadata": {},
     "output_type": "execute_result"
    }
   ],
   "source": [
    "len(new[-4])"
   ]
  },
  {
   "cell_type": "code",
   "execution_count": 74,
   "metadata": {},
   "outputs": [
    {
     "ename": "TypeError",
     "evalue": "Cannot handle this data type",
     "output_type": "error",
     "traceback": [
      "\u001b[0;31m---------------------------------------------------------------------------\u001b[0m",
      "\u001b[0;31mTypeError\u001b[0m                                 Traceback (most recent call last)",
      "\u001b[0;32m<ipython-input-74-fa661d2cc66b>\u001b[0m in \u001b[0;36m<module>\u001b[0;34m()\u001b[0m\n\u001b[0;32m----> 1\u001b[0;31m \u001b[0mimg\u001b[0m \u001b[0;34m=\u001b[0m \u001b[0mImage\u001b[0m\u001b[0;34m.\u001b[0m\u001b[0mfromarray\u001b[0m\u001b[0;34m(\u001b[0m\u001b[0mnp\u001b[0m\u001b[0;34m.\u001b[0m\u001b[0marray\u001b[0m\u001b[0;34m(\u001b[0m\u001b[0mnew\u001b[0m\u001b[0;34m)\u001b[0m\u001b[0;34m)\u001b[0m\u001b[0;34m\u001b[0m\u001b[0m\n\u001b[0m\u001b[1;32m      2\u001b[0m \u001b[0mimg\u001b[0m\u001b[0;34m.\u001b[0m\u001b[0mshow\u001b[0m\u001b[0;34m(\u001b[0m\u001b[0;34m)\u001b[0m\u001b[0;34m\u001b[0m\u001b[0m\n",
      "\u001b[0;32m/usr/local/lib/python2.7/site-packages/PIL/Image.pyc\u001b[0m in \u001b[0;36mfromarray\u001b[0;34m(obj, mode)\u001b[0m\n\u001b[1;32m   2461\u001b[0m         \u001b[0;32mexcept\u001b[0m \u001b[0mKeyError\u001b[0m\u001b[0;34m:\u001b[0m\u001b[0;34m\u001b[0m\u001b[0m\n\u001b[1;32m   2462\u001b[0m             \u001b[0;31m# print(typekey)\u001b[0m\u001b[0;34m\u001b[0m\u001b[0;34m\u001b[0m\u001b[0m\n\u001b[0;32m-> 2463\u001b[0;31m             \u001b[0;32mraise\u001b[0m \u001b[0mTypeError\u001b[0m\u001b[0;34m(\u001b[0m\u001b[0;34m\"Cannot handle this data type\"\u001b[0m\u001b[0;34m)\u001b[0m\u001b[0;34m\u001b[0m\u001b[0m\n\u001b[0m\u001b[1;32m   2464\u001b[0m     \u001b[0;32melse\u001b[0m\u001b[0;34m:\u001b[0m\u001b[0;34m\u001b[0m\u001b[0m\n\u001b[1;32m   2465\u001b[0m         \u001b[0mrawmode\u001b[0m \u001b[0;34m=\u001b[0m \u001b[0mmode\u001b[0m\u001b[0;34m\u001b[0m\u001b[0m\n",
      "\u001b[0;31mTypeError\u001b[0m: Cannot handle this data type"
     ]
    }
   ],
   "source": [
    "img = Image.fromarray(np.array(new))\n",
    "img.show()"
   ]
  },
  {
   "cell_type": "code",
   "execution_count": 47,
   "metadata": {},
   "outputs": [
    {
     "data": {
      "text/plain": [
       "array([[-31998.645 ,  -5529.2896],\n",
       "       [ 60714.066 , -22337.393 ],\n",
       "       [ 19679.18  ,  24654.031 ],\n",
       "       [  2772.9717,  11424.474 ],\n",
       "       [ 19308.75  ,   7625.1963],\n",
       "       [-23486.941 ,  -9743.307 ],\n",
       "       [-46989.4   ,  -6093.7104]], dtype=float32)"
      ]
     },
     "execution_count": 47,
     "metadata": {},
     "output_type": "execute_result"
    }
   ],
   "source": [
    "# PCA\n",
    "pca = PCA(n_components=2)\n",
    "features2d = pca.fit_transform(np.array(features500d))\n",
    "features2d"
   ]
  },
  {
   "cell_type": "code",
   "execution_count": 48,
   "metadata": {},
   "outputs": [],
   "source": [
    "result_dict = dict(zip(labels, features2d))"
   ]
  },
  {
   "cell_type": "code",
   "execution_count": 49,
   "metadata": {
    "scrolled": true
   },
   "outputs": [
    {
     "data": {
      "image/png": "[encoded data removed]",
      "text/plain": [
       "<Figure size 432x288 with 1 Axes>"
      ]
     },
     "metadata": {},
     "output_type": "display_data"
    }
   ],
   "source": [
    "C = [\"1a4i.pdb\", \"1nvt.pdb\"]\n",
    "B = [\"1a02.pdb\",\"1a3q.pdb\", \"1gji.pdb\", \"1imh.pdb\"]\n",
    "D = [\"1fy7.pdb\"]\n",
    "\n",
    "fig, ax = plt.subplots()\n",
    "\n",
    "for protein, f2 in result_dict.items():\n",
    "    if protein in B:\n",
    "        ax.plot(f2[0], f2[1], 'ob')\n",
    "    elif protein in C:\n",
    "        ax.plot(f2[0], f2[1], 'or')\n",
    "    elif protein in D:\n",
    "        ax.plot(f2[0], f2[1], 'og')\n",
    "\n",
    "plt.show()"
   ]
  },
  {
   "cell_type": "markdown",
   "metadata": {},
   "source": [
    "## Stacked Autoencoder 1000x500"
   ]
  },
  {
   "cell_type": "code",
   "execution_count": 52,
   "metadata": {},
   "outputs": [],
   "source": [
    "labels, features = protein_matrix_dict.keys(), protein_matrix_dict.values()\n",
    "input_size = len(features[0])\n",
    "features500d, loss = StackedAutoencoderWithTiedWeights(features, input_size, 1000,500, 10)"
   ]
  },
  {
   "cell_type": "code",
   "execution_count": 53,
   "metadata": {},
   "outputs": [
    {
     "data": {
      "text/plain": [
       "[<matplotlib.lines.Line2D at 0x11ac5cdd0>]"
      ]
     },
     "execution_count": 53,
     "metadata": {},
     "output_type": "execute_result"
    },
    {
     "data": {
      "image/png": "[encoded data removed]",
      "text/plain": [
       "<Figure size 432x288 with 1 Axes>"
      ]
     },
     "metadata": {},
     "output_type": "display_data"
    }
   ],
   "source": [
    "# LOSS GRAPH\n",
    "fig, ax = plt.subplots()\n",
    "ax.plot(range(0,len(loss)), loss, 'go-', linewidth=1, markersize=1)"
   ]
  },
  {
   "cell_type": "code",
   "execution_count": 54,
   "metadata": {},
   "outputs": [
    {
     "data": {
      "text/plain": [
       "array([[-19983.092  ,  -1153.4369 ],\n",
       "       [ 21461.709  ,   -776.66223],\n",
       "       [ 13325.104  ,   -454.39514],\n",
       "       [-17511.71   ,   -214.20016],\n",
       "       [  3745.2043 ,  -1223.5824 ],\n",
       "       [  2343.534  ,   2345.7725 ],\n",
       "       [ -3380.7559 ,   1476.5101 ]], dtype=float32)"
      ]
     },
     "execution_count": 54,
     "metadata": {},
     "output_type": "execute_result"
    }
   ],
   "source": [
    "# PCA\n",
    "pca = PCA(n_components=2)\n",
    "features2d = pca.fit_transform(np.array(features500d))\n",
    "features2d"
   ]
  },
  {
   "cell_type": "code",
   "execution_count": 55,
   "metadata": {},
   "outputs": [],
   "source": [
    "result_dict = dict(zip(labels, features2d))"
   ]
  },
  {
   "cell_type": "code",
   "execution_count": 56,
   "metadata": {
    "scrolled": true
   },
   "outputs": [
    {
     "data": {
      "image/png": "[encoded data removed]",
      "text/plain": [
       "<Figure size 432x288 with 1 Axes>"
      ]
     },
     "metadata": {},
     "output_type": "display_data"
    }
   ],
   "source": [
    "C = [\"1a4i.pdb\", \"1nvt.pdb\"]\n",
    "B = [\"1a02.pdb\",\"1a3q.pdb\", \"1gji.pdb\", \"1imh.pdb\"]\n",
    "D = [\"1fy7.pdb\"]\n",
    "\n",
    "fig, ax = plt.subplots()\n",
    "\n",
    "for protein, f2 in result_dict.items():\n",
    "    if protein in B:\n",
    "        ax.plot(f2[0], f2[1], 'ob')\n",
    "    elif protein in C:\n",
    "        ax.plot(f2[0], f2[1], 'or')\n",
    "    elif protein in D:\n",
    "        ax.plot(f2[0], f2[1], 'og')\n",
    "\n",
    "plt.show()"
   ]
  },
  {
   "cell_type": "markdown",
   "metadata": {},
   "source": [
    "## Stacked Autoencoder 2000x500"
   ]
  },
  {
   "cell_type": "code",
   "execution_count": 21,
   "metadata": {},
   "outputs": [
    {
     "name": "stdout",
     "output_type": "stream",
     "text": [
      "('Iteration ', 0)\n",
      "('Iteration ', 1)\n",
      "('Iteration ', 2)\n",
      "('Iteration ', 3)\n",
      "('Iteration ', 4)\n"
     ]
    },
    {
     "data": {
      "text/plain": [
       "[<matplotlib.lines.Line2D at 0x14efee850>]"
      ]
     },
     "execution_count": 21,
     "metadata": {},
     "output_type": "execute_result"
    },
    {
     "data": {
      "image/png": "[encoded data removed]",
      "text/plain": [
       "<Figure size 432x288 with 1 Axes>"
      ]
     },
     "metadata": {},
     "output_type": "display_data"
    }
   ],
   "source": [
    "labels, features = protein_matrix_dict.keys(), protein_matrix_dict.values()\n",
    "input_size = len(features[0])\n",
    "features500d, loss = StackedAutoencoderWithTiedWeights(features, input_size, 2000,500, 5)\n",
    "\n",
    "# LOSS GRAPH\n",
    "fig, ax = plt.subplots()\n",
    "ax.plot(range(0,len(loss)), loss, 'go-', linewidth=1, markersize=1)"
   ]
  },
  {
   "cell_type": "code",
   "execution_count": 23,
   "metadata": {},
   "outputs": [
    {
     "data": {
      "image/png": "[encoded data removed]",
      "text/plain": [
       "<Figure size 432x288 with 1 Axes>"
      ]
     },
     "metadata": {},
     "output_type": "display_data"
    }
   ],
   "source": [
    "C = [\"1a4i.pdb\", \"1nvt.pdb\"]\n",
    "B = [\"1a02.pdb\",\"1a3q.pdb\", \"1gji.pdb\", \"1imh.pdb\"]\n",
    "D = [\"1fy7.pdb\"]\n",
    "\n",
    "# PCA\n",
    "pca = PCA(n_components=2)\n",
    "features2d = pca.fit_transform(np.array(features500d))\n",
    "result_dict = dict(zip(labels, features2d))\n",
    "\n",
    "fig, ax = plt.subplots()\n",
    "\n",
    "for protein, f2 in result_dict.items():\n",
    "    if protein in B:\n",
    "        ax.plot(f2[0], f2[1], 'ob')\n",
    "    elif protein in C:\n",
    "        ax.plot(f2[0], f2[1], 'or')\n",
    "    elif protein in D:\n",
    "        ax.plot(f2[0], f2[1], 'og')\n",
    "\n",
    "plt.show()"
   ]
  },
  {
   "cell_type": "code",
   "execution_count": null,
   "metadata": {},
   "outputs": [],
   "source": []
  }
 ],
 "metadata": {
  "kernelspec": {
   "display_name": "Python 2",
   "language": "python",
   "name": "python2"
  },
  "language_info": {
   "codemirror_mode": {
    "name": "ipython",
    "version": 2
   },
   "file_extension": ".py",
   "mimetype": "text/x-python",
   "name": "python",
   "nbconvert_exporter": "python",
   "pygments_lexer": "ipython2",
   "version": "2.7.15"
  }
 },
 "nbformat": 4,
 "nbformat_minor": 2
}
